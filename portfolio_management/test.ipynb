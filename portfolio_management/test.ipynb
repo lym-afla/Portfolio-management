{
 "cells": [
  {
   "cell_type": "code",
   "execution_count": 1,
   "metadata": {},
   "outputs": [],
   "source": [
    "import os\n",
    "import django\n",
    "\n",
    "os.environ.setdefault(\"DJANGO_SETTINGS_MODULE\", \"portfolio_management.settings\")\n",
    "os.environ[\"DJANGO_ALLOW_ASYNC_UNSAFE\"] = \"true\"\n",
    "\n",
    "django.setup()\n",
    "\n",
    "from common.models import Brokers, Prices, Transactions, FX, Assets\n",
    "from users.models import CustomUser\n",
    "from utils import NAV_at_date, Irr, chart_dates, chart_labels, chart_colour, portfolio_at_date, calculate_security_nav, currency_format, calculate_portfolio_value\n",
    "from datetime import date\n",
    "from django.db.models import F, Sum"
   ]
  },
  {
   "cell_type": "code",
   "execution_count": 2,
   "metadata": {},
   "outputs": [
    {
     "data": {
      "text/plain": [
       "<CustomUser: Yaroslav>"
      ]
     },
     "execution_count": 2,
     "metadata": {},
     "output_type": "execute_result"
    }
   ],
   "source": [
    "selected_brokers = broker_ids = [2]\n",
    "effective_current_date = date.today()\n",
    "currency_target = 'USD'\n",
    "number_of_digits = 2\n",
    "\n",
    "CustomUser.objects.get(id=2)"
   ]
  },
  {
   "cell_type": "code",
   "execution_count": 3,
   "metadata": {},
   "outputs": [
    {
     "name": "stdout",
     "output_type": "stream",
     "text": [
      "USD\n"
     ]
    },
    {
     "data": {
      "text/plain": [
       "<Prices: Long/short is at 22.648000000000 on 2020-12-01>"
      ]
     },
     "execution_count": 3,
     "metadata": {},
     "output_type": "execute_result"
    }
   ],
   "source": [
    "security_id = 7\n",
    "security = Assets.objects.get(id=security_id)\n",
    "security.price_at_date(effective_current_date).price\n",
    "\n",
    "quote = security.prices.filter(date__lte=effective_current_date).order_by('-date').first()\n",
    "print(currency_target)\n",
    "if currency_target is not None:\n",
    "    quote.price = quote.price * FX.get_rate(security.currency, currency_target, effective_current_date)['FX']\n",
    "quote"
   ]
  },
  {
   "cell_type": "code",
   "execution_count": 4,
   "metadata": {},
   "outputs": [
    {
     "name": "stdout",
     "output_type": "stream",
     "text": [
      "Found 0 duplicate entries.\n",
      "\n",
      "Duplicates removed.\n"
     ]
    }
   ],
   "source": [
    "from django.db.models import Count\n",
    "\n",
    "duplicates = (\n",
    "            Prices.objects.values('date', 'security', 'price')\n",
    "            .annotate(count_id=Count('id'))\n",
    "            .filter(count_id__gt=1)\n",
    "        )\n",
    "\n",
    "total_duplicates = len(duplicates)\n",
    "print((f\"Found {total_duplicates} duplicate entries.\"))\n",
    "\n",
    "for i, duplicate in enumerate(duplicates, start=1):\n",
    "            # Keep one entry and delete the rest\n",
    "            entries = Prices.objects.filter(\n",
    "                date=duplicate['date'],\n",
    "                security=duplicate['security'],\n",
    "                price=duplicate['price']\n",
    "            )\n",
    "            entries_to_keep = entries.first()\n",
    "            entries.exclude(id=entries_to_keep.id).delete()\n",
    "\n",
    "            # Print status update\n",
    "            print(f\"Duplicates are being removed: {i} out of {total_duplicates}\\r\", end='', flush=True)\n",
    "            \n",
    "print(\"\\nDuplicates removed.\")\n"
   ]
  },
  {
   "cell_type": "code",
   "execution_count": 5,
   "metadata": {},
   "outputs": [
    {
     "name": "stdout",
     "output_type": "stream",
     "text": [
      "Old Price: 0.936630, New Price: 0.9366299527568694238659180266\n",
      "Old Asset Value: 7983.27, New Asset Value: 7983.27\n",
      "Old NAV: 29444.380402671861, Target NAV: 29444.38\n"
     ]
    },
    {
     "data": {
      "text/plain": [
       "{'old_price': Decimal('0.936630'),\n",
       " 'new_price': Decimal('0.9366299527568694238659180266'),\n",
       " 'old_asset_value': Decimal('7983.27'),\n",
       " 'new_asset_value': Decimal('7983.27'),\n",
       " 'old_nav': Decimal('29444.380402671861'),\n",
       " 'target_nav': Decimal('29444.38'),\n",
       " 'status': 'Price update canceled.'}"
      ]
     },
     "execution_count": 5,
     "metadata": {},
     "output_type": "execute_result"
    }
   ],
   "source": [
    "import datetime\n",
    "from decimal import Decimal\n",
    "\n",
    "\n",
    "def end_of_year_price_correction(user, year, broker_name, target_nav, asset_name):\n",
    "    \n",
    "    target_nav = round(Decimal(target_nav), 2)\n",
    "    \n",
    "    # Get the broker\n",
    "    try:\n",
    "        broker = Brokers.objects.get(name=broker_name)\n",
    "    except Brokers.DoesNotExist:\n",
    "        return {\"error\": f\"Broker {broker_name} does not exist.\"}\n",
    "\n",
    "    # Get the asset\n",
    "    try:\n",
    "        asset = Assets.objects.get(name=asset_name)\n",
    "    except Assets.DoesNotExist:\n",
    "        return {\"error\": f\"Asset {asset_name} does not exist.\"}\n",
    "\n",
    "    # Calculate end of year date\n",
    "    end_of_year_date = datetime.date(year, 12, 31)\n",
    "\n",
    "    # Fetch NAV at the end of the year\n",
    "    # nav_at_end_of_year = get_nav_at_date(broker, end_of_year_date)\n",
    "    nav_at_end_of_year = NAV_at_date(user.id, [broker.id], end_of_year_date, asset.currency, [])['Total NAV']\n",
    "    if nav_at_end_of_year is None:\n",
    "        return {\"error\": f\"No NAV found for broker {broker_name} at the end of {year}.\"}\n",
    "\n",
    "    # Fetch asset price and position at the end of the year\n",
    "    price_at_end_of_year = asset.price_at_date(end_of_year_date)\n",
    "    if not price_at_end_of_year:\n",
    "        return {\"error\": f\"No price found for asset {asset_name} at the end of {year}.\"}\n",
    "\n",
    "    position_at_end_of_year = asset.position(end_of_year_date, [broker.id])\n",
    "\n",
    "    # Calculate new price\n",
    "    old_price = price_at_end_of_year.price\n",
    "    new_price = old_price + ((target_nav - nav_at_end_of_year) / position_at_end_of_year)\n",
    "\n",
    "    # Display information\n",
    "    old_asset_value = round(Decimal(old_price * position_at_end_of_year), 2)\n",
    "    new_asset_value = round(Decimal(new_price * position_at_end_of_year), 2)\n",
    "\n",
    "    result = {\n",
    "        \"old_price\": old_price,\n",
    "        \"new_price\": new_price,\n",
    "        \"old_asset_value\": old_asset_value,\n",
    "        \"new_asset_value\": new_asset_value,\n",
    "        \"old_nav\": nav_at_end_of_year,\n",
    "        \"target_nav\": target_nav\n",
    "    }\n",
    "\n",
    "    print(f\"Old Price: {result['old_price']}, New Price: {result['new_price']}\")\n",
    "    print(f\"Old Asset Value: {result['old_asset_value']}, New Asset Value: {result['new_asset_value']}\")\n",
    "    print(f\"Old NAV: {result['old_nav']}, Target NAV: {result['target_nav']}\")\n",
    "\n",
    "    # Ask for confirmation\n",
    "    confirm = input(\"Do you want to update the price? (yes/no): \")\n",
    "\n",
    "    if confirm.lower() == 'yes':\n",
    "        # Update the price\n",
    "        price_instance, created = Prices.objects.get_or_create(\n",
    "            security=asset, date=end_of_year_date,\n",
    "            defaults={'price': new_price}\n",
    "        )\n",
    "        if not created:\n",
    "            price_instance.price = new_price\n",
    "            price_instance.save()\n",
    "\n",
    "        result[\"status\"] = \"Price updated successfully.\"\n",
    "        print(\"New price is:\", price_instance.price)\n",
    "    else:\n",
    "        result[\"status\"] = \"Price update canceled.\"\n",
    "\n",
    "    return result\n",
    "\n",
    "user = CustomUser.objects.filter(username='Yaroslav').first()\n",
    "year = 2013\n",
    "broker_name = 'UBS Pension'\n",
    "target_nav = 29444.38\n",
    "asset_name = 'Emerging Markets Equity Fund'\n",
    "\n",
    "end_of_year_price_correction(user, year, broker_name, target_nav, asset_name)"
   ]
  },
  {
   "cell_type": "code",
   "execution_count": 15,
   "metadata": {},
   "outputs": [
    {
     "name": "stdout",
     "output_type": "stream",
     "text": [
      "eop_nav 15039.440342064474 15039.43\n"
     ]
    },
    {
     "data": {
      "text/plain": [
       "{'bop_nav': Decimal('5175.48'),\n",
       " 'invested': Decimal('8015.30'),\n",
       " 'cash_out': Decimal('0'),\n",
       " 'price_change': Decimal('1848.65'),\n",
       " 'capital_distribution': Decimal('0'),\n",
       " 'commission': Decimal('0'),\n",
       " 'tax': Decimal('0'),\n",
       " 'fx': Decimal('0'),\n",
       " 'eop_nav': Decimal('15039.440342064474'),\n",
       " 'tsr': Decimal('0.1927999999999999991562305012848810292780399322509765625')}"
      ]
     },
     "execution_count": 15,
     "metadata": {},
     "output_type": "execute_result"
    }
   ],
   "source": [
    "from datetime import timedelta\n",
    "\n",
    "import pandas as pd\n",
    "from common.models import AnnualPerformance\n",
    "from utils import broker_group_to_ids, get_fx_rate\n",
    "\n",
    "\n",
    "def calculate_performance(user, start_date, end_date, selected_brokers_ids, currency_target, is_restricted=None):\n",
    "    performance_data = {name: Decimal(0) for name in [\n",
    "        \"bop_nav\", \"invested\", \"cash_out\", \"price_change\", \"capital_distribution\",\n",
    "        \"commission\", \"tax\", \"fx\", \"eop_nav\", \"tsr\"\n",
    "    ]}\n",
    "\n",
    "    brokers = Brokers.objects.filter(id__in=selected_brokers_ids, investor=user).all()\n",
    "\n",
    "    for broker in brokers:\n",
    "        # Calculate BOP NAV\n",
    "        bop_nav = AnnualPerformance.objects.filter(\n",
    "            investor=user, broker=broker, year=start_date.year - 1, currency=currency_target\n",
    "        ).values('eop_nav').first()\n",
    "        \n",
    "        if not bop_nav:\n",
    "            bop_nav = NAV_at_date(user.id, [broker.id], start_date - timedelta(days=1), currency_target)['Total NAV']\n",
    "        else:\n",
    "            bop_nav = bop_nav['eop_nav']\n",
    "        \n",
    "        performance_data['bop_nav'] += bop_nav\n",
    "\n",
    "        # Filter transactions\n",
    "        transactions = Transactions.objects.filter(\n",
    "            investor=user,\n",
    "            broker_id=broker.id,\n",
    "            date__gte=start_date,\n",
    "            date__lte=end_date,\n",
    "        )\n",
    "\n",
    "        if is_restricted is not None:\n",
    "            transactions = (transactions.filter(security__isnull=False, security__restricted=is_restricted) |\n",
    "                            transactions.filter(security__isnull=True))\n",
    "\n",
    "        transactions_df = pd.DataFrame(list(transactions.values('cash_flow', 'type', 'commission', 'date', 'currency')))\n",
    "\n",
    "        if not transactions_df.empty:\n",
    "            transactions_df['fx_rate'] = transactions_df.apply(\n",
    "                lambda row: get_fx_rate(row['currency'], currency_target, row['date']), axis=1\n",
    "            )\n",
    "\n",
    "            # Calculate transaction-based metrics\n",
    "            performance_data['invested'] += round((transactions_df[transactions_df['type'] == 'Cash in']['cash_flow'] * \n",
    "                                                   transactions_df[transactions_df['type'] == 'Cash in']['fx_rate']).sum(), 2)\n",
    "            performance_data['cash_out'] += round((transactions_df[transactions_df['type'] == 'Cash out']['cash_flow'] * \n",
    "                                                   transactions_df[transactions_df['type'] == 'Cash out']['fx_rate']).sum(), 2)\n",
    "            performance_data['commission'] += round((transactions_df['commission'] * transactions_df['fx_rate']).sum(), 2)\n",
    "            performance_data['tax'] += round((transactions_df[transactions_df['type'] == 'Tax']['cash_flow'] * \n",
    "                                              transactions_df[transactions_df['type'] == 'Tax']['fx_rate']).sum(), 2)\n",
    "\n",
    "        # Calculate asset-based metrics\n",
    "        assets = Assets.objects.filter(investor=user, brokers=broker)\n",
    "        if is_restricted is not None:\n",
    "            assets = assets.filter(restricted=is_restricted)\n",
    "\n",
    "        for asset in assets:\n",
    "            asset_realized_gl = asset.realized_gain_loss(end_date, currency_target, broker_id_list=[broker.id], start_date=start_date)\n",
    "            performance_data['price_change'] += asset_realized_gl[\"all_time\"] if asset_realized_gl else 0\n",
    "            performance_data['price_change'] += asset.unrealized_gain_loss(end_date, currency_target, broker_id_list=[broker.id], start_date=start_date)\n",
    "            performance_data['capital_distribution'] += asset.get_capital_distribution(end_date, currency_target, broker_id_list=[broker.id], start_date=start_date)\n",
    "\n",
    "        # Calculate EOP NAV\n",
    "        eop_nav = NAV_at_date(user.id, [broker.id], end_date, currency_target)['Total NAV']\n",
    "        performance_data['eop_nav'] += eop_nav\n",
    "\n",
    "    # Calculate FX impact\n",
    "    components_sum = sum(performance_data[key] for key in ['bop_nav', 'invested', 'cash_out', 'price_change', 'capital_distribution', 'commission', 'tax'])\n",
    "    print(\"eop_nav\", performance_data['eop_nav'], components_sum)\n",
    "    performance_data['fx'] += performance_data['eop_nav'] - components_sum\n",
    "\n",
    "    # Calculate TSR\n",
    "    performance_data['tsr'] = Irr(user.id, end_date, currency_target, broker_id_list=selected_brokers_ids, start_date=start_date)\n",
    "\n",
    "    # Adjust FX for rounding errors\n",
    "    performance_data['fx'] = Decimal(0) if abs(performance_data['fx']) < 0.1 else performance_data['fx']\n",
    "\n",
    "    return performance_data\n",
    "\n",
    "investor = CustomUser.objects.get(id=2)\n",
    "start_date = date(2010, 1, 1)\n",
    "end_date = date(2010, 12, 31)\n",
    "selected_brokers_ids = broker_group_to_ids(\"All brokers\", investor)\n",
    "\n",
    "perf = calculate_performance(investor, start_date, end_date, selected_brokers_ids, currency_target='GBP', is_restricted=None)\n",
    "perf"
   ]
  }
 ],
 "metadata": {
  "kernelspec": {
   "display_name": "Python 3",
   "language": "python",
   "name": "python3"
  },
  "language_info": {
   "codemirror_mode": {
    "name": "ipython",
    "version": 3
   },
   "file_extension": ".py",
   "mimetype": "text/x-python",
   "name": "python",
   "nbconvert_exporter": "python",
   "pygments_lexer": "ipython3",
   "version": "3.12.0"
  }
 },
 "nbformat": 4,
 "nbformat_minor": 2
}
