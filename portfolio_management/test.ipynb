{
 "cells": [
  {
   "cell_type": "code",
   "execution_count": 1,
   "metadata": {},
   "outputs": [
    {
     "name": "stdout",
     "output_type": "stream",
     "text": [
      "Django initialized successfully!\n"
     ]
    }
   ],
   "source": [
    "import sys\n",
    "import os\n",
    "\n",
    "# Add the project root to the path\n",
    "if os.path.abspath('.') not in sys.path:\n",
    "    sys.path.append(os.path.abspath('.'))\n",
    "\n",
    "# Import the setup module\n",
    "from notebook_setup import setup_django\n",
    "setup_django()\n",
    "\n",
    "# Now you can import Django models\n",
    "from common.models import Brokers, Prices, Transactions, FX, Assets\n",
    "from users.models import CustomUser\n",
    "from datetime import date, datetime, timedelta\n",
    "from django.db.models import F, Sum"
   ]
  },
  {
   "cell_type": "code",
   "execution_count": 2,
   "metadata": {},
   "outputs": [
    {
     "data": {
      "text/plain": [
       "<CustomUser: Yaroslav>"
      ]
     },
     "execution_count": 2,
     "metadata": {},
     "output_type": "execute_result"
    }
   ],
   "source": [
    "selected_brokers = broker_ids = [2]\n",
    "effective_current_date = date.today()\n",
    "currency_target = 'USD'\n",
    "number_of_digits = 2\n",
    "\n",
    "CustomUser.objects.get(id=2)"
   ]
  },
  {
   "cell_type": "code",
   "execution_count": 3,
   "metadata": {},
   "outputs": [
    {
     "name": "stdout",
     "output_type": "stream",
     "text": [
      "USD\n"
     ]
    },
    {
     "data": {
      "text/plain": [
       "{'FX': Decimal('0.747200'),\n",
       " 'conversions': 1,\n",
       " 'dates_async': False,\n",
       " 'dates': [datetime.date(2024, 9, 30)]}"
      ]
     },
     "execution_count": 3,
     "metadata": {},
     "output_type": "execute_result"
    }
   ],
   "source": [
    "security_id = 7\n",
    "security = Assets.objects.get(id=security_id)\n",
    "security.price_at_date(effective_current_date).price\n",
    "\n",
    "# for field in FX._meta.get_fields():\n",
    "#     print(field.name)\n",
    "\n",
    "quote = security.prices.filter(date__lte=effective_current_date).order_by('-date').first()\n",
    "print(currency_target)\n",
    "# if currency_target is not None:\n",
    "#     quote.price = quote.price * FX.get_rate(security.currency, currency_target, effective_current_date, investor=2)['FX']\n",
    "# quote\n",
    "\n",
    "FX.get_rate('USD', 'GBP', effective_current_date)"
   ]
  },
  {
   "cell_type": "code",
   "execution_count": 4,
   "metadata": {},
   "outputs": [
    {
     "name": "stdout",
     "output_type": "stream",
     "text": [
      "Found 0 duplicate entries.\n",
      "\n",
      "Duplicates removed.\n"
     ]
    }
   ],
   "source": [
    "from django.db.models import Count\n",
    "\n",
    "duplicates = (\n",
    "            Prices.objects.values('date', 'security', 'price')\n",
    "            .annotate(count_id=Count('id'))\n",
    "            .filter(count_id__gt=1)\n",
    "        )\n",
    "\n",
    "total_duplicates = len(duplicates)\n",
    "print((f\"Found {total_duplicates} duplicate entries.\"))\n",
    "\n",
    "for i, duplicate in enumerate(duplicates, start=1):\n",
    "            # Keep one entry and delete the rest\n",
    "            entries = Prices.objects.filter(\n",
    "                date=duplicate['date'],\n",
    "                security=duplicate['security'],\n",
    "                price=duplicate['price']\n",
    "            )\n",
    "            entries_to_keep = entries.first()\n",
    "            entries.exclude(id=entries_to_keep.id).delete()\n",
    "\n",
    "            # Print status update\n",
    "            print(f\"Duplicates are being removed: {i} out of {total_duplicates}\\r\", end='', flush=True)\n",
    "            \n",
    "print(\"\\nDuplicates removed.\")\n"
   ]
  },
  {
   "cell_type": "code",
   "execution_count": 5,
   "metadata": {},
   "outputs": [
    {
     "ename": "ModuleNotFoundError",
     "evalue": "No module named 'portfolio_management.core'",
     "output_type": "error",
     "traceback": [
      "\u001b[1;31m---------------------------------------------------------------------------\u001b[0m",
      "\u001b[1;31mModuleNotFoundError\u001b[0m                       Traceback (most recent call last)",
      "Cell \u001b[1;32mIn[5], line 4\u001b[0m\n\u001b[0;32m      1\u001b[0m \u001b[38;5;28;01mimport\u001b[39;00m \u001b[38;5;21;01mdatetime\u001b[39;00m\n\u001b[0;32m      2\u001b[0m \u001b[38;5;28;01mfrom\u001b[39;00m \u001b[38;5;21;01mdecimal\u001b[39;00m \u001b[38;5;28;01mimport\u001b[39;00m Decimal\n\u001b[1;32m----> 4\u001b[0m \u001b[38;5;28;01mfrom\u001b[39;00m \u001b[38;5;21;01mportfolio_management\u001b[39;00m\u001b[38;5;21;01m.\u001b[39;00m\u001b[38;5;21;01mcore\u001b[39;00m\u001b[38;5;21;01m.\u001b[39;00m\u001b[38;5;21;01mportfolio_utils\u001b[39;00m \u001b[38;5;28;01mimport\u001b[39;00m NAV_at_date\n\u001b[0;32m      7\u001b[0m \u001b[38;5;28;01mdef\u001b[39;00m \u001b[38;5;21mend_of_year_price_correction\u001b[39m(user, year, broker_name, target_nav, asset_name):\n\u001b[0;32m      9\u001b[0m     target_nav \u001b[38;5;241m=\u001b[39m \u001b[38;5;28mround\u001b[39m(Decimal(target_nav), \u001b[38;5;241m2\u001b[39m)\n",
      "\u001b[1;31mModuleNotFoundError\u001b[0m: No module named 'portfolio_management.core'"
     ]
    }
   ],
   "source": [
    "import datetime\n",
    "from decimal import Decimal\n",
    "\n",
    "from portfolio_management.core.portfolio_utils import NAV_at_date\n",
    "\n",
    "\n",
    "def end_of_year_price_correction(user, year, broker_name, target_nav, asset_name):\n",
    "    \n",
    "    target_nav = round(Decimal(target_nav), 2)\n",
    "    \n",
    "    # Get the broker\n",
    "    try:\n",
    "        broker = Brokers.objects.get(name=broker_name)\n",
    "    except Brokers.DoesNotExist:\n",
    "        return {\"error\": f\"Broker {broker_name} does not exist.\"}\n",
    "\n",
    "    # Get the asset\n",
    "    try:\n",
    "        asset = Assets.objects.get(name=asset_name)\n",
    "    except Assets.DoesNotExist:\n",
    "        return {\"error\": f\"Asset {asset_name} does not exist.\"}\n",
    "\n",
    "    # Calculate end of year date\n",
    "    end_of_year_date = datetime.date(year, 12, 31)\n",
    "\n",
    "    # Fetch NAV at the end of the year\n",
    "    # nav_at_end_of_year = get_nav_at_date(broker, end_of_year_date)\n",
    "    nav_at_end_of_year = NAV_at_date(user.id, [broker.id], end_of_year_date, asset.currency, [])['Total NAV']\n",
    "    if nav_at_end_of_year is None:\n",
    "        return {\"error\": f\"No NAV found for broker {broker_name} at the end of {year}.\"}\n",
    "\n",
    "    # Fetch asset price and position at the end of the year\n",
    "    price_at_end_of_year = asset.price_at_date(end_of_year_date)\n",
    "    if not price_at_end_of_year:\n",
    "        return {\"error\": f\"No price found for asset {asset_name} at the end of {year}.\"}\n",
    "\n",
    "    position_at_end_of_year = asset.position(end_of_year_date, user, [broker.id])\n",
    "\n",
    "    # Calculate new price\n",
    "    old_price = price_at_end_of_year.price\n",
    "    new_price = old_price + ((target_nav - nav_at_end_of_year) / position_at_end_of_year)\n",
    "\n",
    "    # Display information\n",
    "    old_asset_value = round(Decimal(old_price * position_at_end_of_year), 2)\n",
    "    new_asset_value = round(Decimal(new_price * position_at_end_of_year), 2)\n",
    "\n",
    "    result = {\n",
    "        \"old_price\": old_price,\n",
    "        \"new_price\": new_price,\n",
    "        \"old_asset_value\": old_asset_value,\n",
    "        \"new_asset_value\": new_asset_value,\n",
    "        \"old_nav\": nav_at_end_of_year,\n",
    "        \"target_nav\": target_nav\n",
    "    }\n",
    "\n",
    "    print(f\"Old Price: {result['old_price']}, New Price: {result['new_price']}\")\n",
    "    print(f\"Old Asset Value: {result['old_asset_value']}, New Asset Value: {result['new_asset_value']}\")\n",
    "    print(f\"Old NAV: {result['old_nav']}, Target NAV: {result['target_nav']}\")\n",
    "\n",
    "    # Ask for confirmation\n",
    "    confirm = input(\"Do you want to update the price? (yes/no): \")\n",
    "\n",
    "    if confirm.lower() == 'yes':\n",
    "        # Update the price\n",
    "        price_instance, created = Prices.objects.get_or_create(\n",
    "            security=asset, date=end_of_year_date,\n",
    "            defaults={'price': new_price}\n",
    "        )\n",
    "        if not created:\n",
    "            price_instance.price = new_price\n",
    "            price_instance.save()\n",
    "\n",
    "        result[\"status\"] = \"Price updated successfully.\"\n",
    "        print(\"New price is:\", price_instance.price)\n",
    "    else:\n",
    "        result[\"status\"] = \"Price update canceled.\"\n",
    "\n",
    "    return result\n",
    "\n",
    "user = CustomUser.objects.filter(username='Yaroslav').first()\n",
    "year = 2013\n",
    "broker_name = 'UBS Pension'\n",
    "target_nav = 29444.38\n",
    "asset_name = 'Emerging Markets Equity Fund'\n",
    "\n",
    "end_of_year_price_correction(user, year, broker_name, target_nav, asset_name)"
   ]
  },
  {
   "cell_type": "code",
   "execution_count": 6,
   "metadata": {},
   "outputs": [
    {
     "ename": "ValueError",
     "evalue": "Cannot query \"Account: Test broker\": Must be \"Transactions\" instance.",
     "output_type": "error",
     "traceback": [
      "\u001b[1;31m---------------------------------------------------------------------------\u001b[0m",
      "\u001b[1;31mValueError\u001b[0m                                Traceback (most recent call last)",
      "Cell \u001b[1;32mIn[6], line 8\u001b[0m\n\u001b[0;32m      5\u001b[0m a \u001b[38;5;241m=\u001b[39m Accounts\u001b[38;5;241m.\u001b[39mobjects\u001b[38;5;241m.\u001b[39mget(broker__investor\u001b[38;5;241m=\u001b[39muser, name\u001b[38;5;241m=\u001b[39m\u001b[38;5;124m'\u001b[39m\u001b[38;5;124mTest broker\u001b[39m\u001b[38;5;124m'\u001b[39m)\n\u001b[0;32m      6\u001b[0m a\u001b[38;5;241m.\u001b[39mtransactions\u001b[38;5;241m.\u001b[39mfilter(quantity__isnull\u001b[38;5;241m=\u001b[39m\u001b[38;5;28;01mFalse\u001b[39;00m)\n\u001b[1;32m----> 8\u001b[0m s \u001b[38;5;241m=\u001b[39m \u001b[43mAssets\u001b[49m\u001b[38;5;241;43m.\u001b[39;49m\u001b[43mobjects\u001b[49m\u001b[38;5;241;43m.\u001b[39;49m\u001b[43mfilter\u001b[49m\u001b[43m(\u001b[49m\u001b[43mtransactions__broker_account\u001b[49m\u001b[38;5;241;43m=\u001b[39;49m\u001b[43ma\u001b[49m\u001b[43m,\u001b[49m\u001b[43m \u001b[49m\u001b[43mtransactions__date__lte\u001b[49m\u001b[38;5;241;43m=\u001b[39;49m\u001b[43mdate\u001b[49m\u001b[43m(\u001b[49m\u001b[38;5;241;43m2020\u001b[39;49m\u001b[43m,\u001b[49m\u001b[38;5;241;43m6\u001b[39;49m\u001b[43m,\u001b[49m\u001b[38;5;241;43m1\u001b[39;49m\u001b[43m)\u001b[49m\u001b[43m)\u001b[49m\n\u001b[0;32m      9\u001b[0m s\u001b[38;5;241m.\u001b[39mdistinct()\u001b[38;5;241m.\u001b[39mcount()\n",
      "File \u001b[1;32md:\\Project Y\\Portfolio management\\AW-portolio-management\\Lib\\site-packages\\django\\db\\models\\manager.py:87\u001b[0m, in \u001b[0;36mBaseManager._get_queryset_methods.<locals>.create_method.<locals>.manager_method\u001b[1;34m(self, *args, **kwargs)\u001b[0m\n\u001b[0;32m     85\u001b[0m \u001b[38;5;129m@wraps\u001b[39m(method)\n\u001b[0;32m     86\u001b[0m \u001b[38;5;28;01mdef\u001b[39;00m \u001b[38;5;21mmanager_method\u001b[39m(\u001b[38;5;28mself\u001b[39m, \u001b[38;5;241m*\u001b[39margs, \u001b[38;5;241m*\u001b[39m\u001b[38;5;241m*\u001b[39mkwargs):\n\u001b[1;32m---> 87\u001b[0m     \u001b[38;5;28;01mreturn\u001b[39;00m \u001b[38;5;28;43mgetattr\u001b[39;49m\u001b[43m(\u001b[49m\u001b[38;5;28;43mself\u001b[39;49m\u001b[38;5;241;43m.\u001b[39;49m\u001b[43mget_queryset\u001b[49m\u001b[43m(\u001b[49m\u001b[43m)\u001b[49m\u001b[43m,\u001b[49m\u001b[43m \u001b[49m\u001b[43mname\u001b[49m\u001b[43m)\u001b[49m\u001b[43m(\u001b[49m\u001b[38;5;241;43m*\u001b[39;49m\u001b[43margs\u001b[49m\u001b[43m,\u001b[49m\u001b[43m \u001b[49m\u001b[38;5;241;43m*\u001b[39;49m\u001b[38;5;241;43m*\u001b[39;49m\u001b[43mkwargs\u001b[49m\u001b[43m)\u001b[49m\n",
      "File \u001b[1;32md:\\Project Y\\Portfolio management\\AW-portolio-management\\Lib\\site-packages\\django\\db\\models\\query.py:1476\u001b[0m, in \u001b[0;36mQuerySet.filter\u001b[1;34m(self, *args, **kwargs)\u001b[0m\n\u001b[0;32m   1471\u001b[0m \u001b[38;5;250m\u001b[39m\u001b[38;5;124;03m\"\"\"\u001b[39;00m\n\u001b[0;32m   1472\u001b[0m \u001b[38;5;124;03mReturn a new QuerySet instance with the args ANDed to the existing\u001b[39;00m\n\u001b[0;32m   1473\u001b[0m \u001b[38;5;124;03mset.\u001b[39;00m\n\u001b[0;32m   1474\u001b[0m \u001b[38;5;124;03m\"\"\"\u001b[39;00m\n\u001b[0;32m   1475\u001b[0m \u001b[38;5;28mself\u001b[39m\u001b[38;5;241m.\u001b[39m_not_support_combined_queries(\u001b[38;5;124m\"\u001b[39m\u001b[38;5;124mfilter\u001b[39m\u001b[38;5;124m\"\u001b[39m)\n\u001b[1;32m-> 1476\u001b[0m \u001b[38;5;28;01mreturn\u001b[39;00m \u001b[38;5;28;43mself\u001b[39;49m\u001b[38;5;241;43m.\u001b[39;49m\u001b[43m_filter_or_exclude\u001b[49m\u001b[43m(\u001b[49m\u001b[38;5;28;43;01mFalse\u001b[39;49;00m\u001b[43m,\u001b[49m\u001b[43m \u001b[49m\u001b[43margs\u001b[49m\u001b[43m,\u001b[49m\u001b[43m \u001b[49m\u001b[43mkwargs\u001b[49m\u001b[43m)\u001b[49m\n",
      "File \u001b[1;32md:\\Project Y\\Portfolio management\\AW-portolio-management\\Lib\\site-packages\\django\\db\\models\\query.py:1494\u001b[0m, in \u001b[0;36mQuerySet._filter_or_exclude\u001b[1;34m(self, negate, args, kwargs)\u001b[0m\n\u001b[0;32m   1492\u001b[0m     clone\u001b[38;5;241m.\u001b[39m_deferred_filter \u001b[38;5;241m=\u001b[39m negate, args, kwargs\n\u001b[0;32m   1493\u001b[0m \u001b[38;5;28;01melse\u001b[39;00m:\n\u001b[1;32m-> 1494\u001b[0m     \u001b[43mclone\u001b[49m\u001b[38;5;241;43m.\u001b[39;49m\u001b[43m_filter_or_exclude_inplace\u001b[49m\u001b[43m(\u001b[49m\u001b[43mnegate\u001b[49m\u001b[43m,\u001b[49m\u001b[43m \u001b[49m\u001b[43margs\u001b[49m\u001b[43m,\u001b[49m\u001b[43m \u001b[49m\u001b[43mkwargs\u001b[49m\u001b[43m)\u001b[49m\n\u001b[0;32m   1495\u001b[0m \u001b[38;5;28;01mreturn\u001b[39;00m clone\n",
      "File \u001b[1;32md:\\Project Y\\Portfolio management\\AW-portolio-management\\Lib\\site-packages\\django\\db\\models\\query.py:1501\u001b[0m, in \u001b[0;36mQuerySet._filter_or_exclude_inplace\u001b[1;34m(self, negate, args, kwargs)\u001b[0m\n\u001b[0;32m   1499\u001b[0m     \u001b[38;5;28mself\u001b[39m\u001b[38;5;241m.\u001b[39m_query\u001b[38;5;241m.\u001b[39madd_q(\u001b[38;5;241m~\u001b[39mQ(\u001b[38;5;241m*\u001b[39margs, \u001b[38;5;241m*\u001b[39m\u001b[38;5;241m*\u001b[39mkwargs))\n\u001b[0;32m   1500\u001b[0m \u001b[38;5;28;01melse\u001b[39;00m:\n\u001b[1;32m-> 1501\u001b[0m     \u001b[38;5;28;43mself\u001b[39;49m\u001b[38;5;241;43m.\u001b[39;49m\u001b[43m_query\u001b[49m\u001b[38;5;241;43m.\u001b[39;49m\u001b[43madd_q\u001b[49m\u001b[43m(\u001b[49m\u001b[43mQ\u001b[49m\u001b[43m(\u001b[49m\u001b[38;5;241;43m*\u001b[39;49m\u001b[43margs\u001b[49m\u001b[43m,\u001b[49m\u001b[43m \u001b[49m\u001b[38;5;241;43m*\u001b[39;49m\u001b[38;5;241;43m*\u001b[39;49m\u001b[43mkwargs\u001b[49m\u001b[43m)\u001b[49m\u001b[43m)\u001b[49m\n",
      "File \u001b[1;32md:\\Project Y\\Portfolio management\\AW-portolio-management\\Lib\\site-packages\\django\\db\\models\\sql\\query.py:1602\u001b[0m, in \u001b[0;36mQuery.add_q\u001b[1;34m(self, q_object)\u001b[0m\n\u001b[0;32m   1593\u001b[0m \u001b[38;5;66;03m# For join promotion this case is doing an AND for the added q_object\u001b[39;00m\n\u001b[0;32m   1594\u001b[0m \u001b[38;5;66;03m# and existing conditions. So, any existing inner join forces the join\u001b[39;00m\n\u001b[0;32m   1595\u001b[0m \u001b[38;5;66;03m# type to remain inner. Existing outer joins can however be demoted.\u001b[39;00m\n\u001b[0;32m   1596\u001b[0m \u001b[38;5;66;03m# (Consider case where rel_a is LOUTER and rel_a__col=1 is added - if\u001b[39;00m\n\u001b[0;32m   1597\u001b[0m \u001b[38;5;66;03m# rel_a doesn't produce any rows, then the whole condition must fail.\u001b[39;00m\n\u001b[0;32m   1598\u001b[0m \u001b[38;5;66;03m# So, demotion is OK.\u001b[39;00m\n\u001b[0;32m   1599\u001b[0m existing_inner \u001b[38;5;241m=\u001b[39m {\n\u001b[0;32m   1600\u001b[0m     a \u001b[38;5;28;01mfor\u001b[39;00m a \u001b[38;5;129;01min\u001b[39;00m \u001b[38;5;28mself\u001b[39m\u001b[38;5;241m.\u001b[39malias_map \u001b[38;5;28;01mif\u001b[39;00m \u001b[38;5;28mself\u001b[39m\u001b[38;5;241m.\u001b[39malias_map[a]\u001b[38;5;241m.\u001b[39mjoin_type \u001b[38;5;241m==\u001b[39m INNER\n\u001b[0;32m   1601\u001b[0m }\n\u001b[1;32m-> 1602\u001b[0m clause, _ \u001b[38;5;241m=\u001b[39m \u001b[38;5;28;43mself\u001b[39;49m\u001b[38;5;241;43m.\u001b[39;49m\u001b[43m_add_q\u001b[49m\u001b[43m(\u001b[49m\u001b[43mq_object\u001b[49m\u001b[43m,\u001b[49m\u001b[43m \u001b[49m\u001b[38;5;28;43mself\u001b[39;49m\u001b[38;5;241;43m.\u001b[39;49m\u001b[43mused_aliases\u001b[49m\u001b[43m)\u001b[49m\n\u001b[0;32m   1603\u001b[0m \u001b[38;5;28;01mif\u001b[39;00m clause:\n\u001b[0;32m   1604\u001b[0m     \u001b[38;5;28mself\u001b[39m\u001b[38;5;241m.\u001b[39mwhere\u001b[38;5;241m.\u001b[39madd(clause, AND)\n",
      "File \u001b[1;32md:\\Project Y\\Portfolio management\\AW-portolio-management\\Lib\\site-packages\\django\\db\\models\\sql\\query.py:1634\u001b[0m, in \u001b[0;36mQuery._add_q\u001b[1;34m(self, q_object, used_aliases, branch_negated, current_negated, allow_joins, split_subq, check_filterable, summarize, update_join_types)\u001b[0m\n\u001b[0;32m   1630\u001b[0m joinpromoter \u001b[38;5;241m=\u001b[39m JoinPromoter(\n\u001b[0;32m   1631\u001b[0m     q_object\u001b[38;5;241m.\u001b[39mconnector, \u001b[38;5;28mlen\u001b[39m(q_object\u001b[38;5;241m.\u001b[39mchildren), current_negated\n\u001b[0;32m   1632\u001b[0m )\n\u001b[0;32m   1633\u001b[0m \u001b[38;5;28;01mfor\u001b[39;00m child \u001b[38;5;129;01min\u001b[39;00m q_object\u001b[38;5;241m.\u001b[39mchildren:\n\u001b[1;32m-> 1634\u001b[0m     child_clause, needed_inner \u001b[38;5;241m=\u001b[39m \u001b[38;5;28;43mself\u001b[39;49m\u001b[38;5;241;43m.\u001b[39;49m\u001b[43mbuild_filter\u001b[49m\u001b[43m(\u001b[49m\n\u001b[0;32m   1635\u001b[0m \u001b[43m        \u001b[49m\u001b[43mchild\u001b[49m\u001b[43m,\u001b[49m\n\u001b[0;32m   1636\u001b[0m \u001b[43m        \u001b[49m\u001b[43mcan_reuse\u001b[49m\u001b[38;5;241;43m=\u001b[39;49m\u001b[43mused_aliases\u001b[49m\u001b[43m,\u001b[49m\n\u001b[0;32m   1637\u001b[0m \u001b[43m        \u001b[49m\u001b[43mbranch_negated\u001b[49m\u001b[38;5;241;43m=\u001b[39;49m\u001b[43mbranch_negated\u001b[49m\u001b[43m,\u001b[49m\n\u001b[0;32m   1638\u001b[0m \u001b[43m        \u001b[49m\u001b[43mcurrent_negated\u001b[49m\u001b[38;5;241;43m=\u001b[39;49m\u001b[43mcurrent_negated\u001b[49m\u001b[43m,\u001b[49m\n\u001b[0;32m   1639\u001b[0m \u001b[43m        \u001b[49m\u001b[43mallow_joins\u001b[49m\u001b[38;5;241;43m=\u001b[39;49m\u001b[43mallow_joins\u001b[49m\u001b[43m,\u001b[49m\n\u001b[0;32m   1640\u001b[0m \u001b[43m        \u001b[49m\u001b[43msplit_subq\u001b[49m\u001b[38;5;241;43m=\u001b[39;49m\u001b[43msplit_subq\u001b[49m\u001b[43m,\u001b[49m\n\u001b[0;32m   1641\u001b[0m \u001b[43m        \u001b[49m\u001b[43mcheck_filterable\u001b[49m\u001b[38;5;241;43m=\u001b[39;49m\u001b[43mcheck_filterable\u001b[49m\u001b[43m,\u001b[49m\n\u001b[0;32m   1642\u001b[0m \u001b[43m        \u001b[49m\u001b[43msummarize\u001b[49m\u001b[38;5;241;43m=\u001b[39;49m\u001b[43msummarize\u001b[49m\u001b[43m,\u001b[49m\n\u001b[0;32m   1643\u001b[0m \u001b[43m        \u001b[49m\u001b[43mupdate_join_types\u001b[49m\u001b[38;5;241;43m=\u001b[39;49m\u001b[43mupdate_join_types\u001b[49m\u001b[43m,\u001b[49m\n\u001b[0;32m   1644\u001b[0m \u001b[43m    \u001b[49m\u001b[43m)\u001b[49m\n\u001b[0;32m   1645\u001b[0m     joinpromoter\u001b[38;5;241m.\u001b[39madd_votes(needed_inner)\n\u001b[0;32m   1646\u001b[0m     \u001b[38;5;28;01mif\u001b[39;00m child_clause:\n",
      "File \u001b[1;32md:\\Project Y\\Portfolio management\\AW-portolio-management\\Lib\\site-packages\\django\\db\\models\\sql\\query.py:1521\u001b[0m, in \u001b[0;36mQuery.build_filter\u001b[1;34m(self, filter_expr, branch_negated, current_negated, can_reuse, allow_joins, split_subq, check_filterable, summarize, update_join_types)\u001b[0m\n\u001b[0;32m   1519\u001b[0m \u001b[38;5;28;01mif\u001b[39;00m \u001b[38;5;28misinstance\u001b[39m(value, Iterator):\n\u001b[0;32m   1520\u001b[0m     value \u001b[38;5;241m=\u001b[39m \u001b[38;5;28mlist\u001b[39m(value)\n\u001b[1;32m-> 1521\u001b[0m \u001b[38;5;28;43mself\u001b[39;49m\u001b[38;5;241;43m.\u001b[39;49m\u001b[43mcheck_related_objects\u001b[49m\u001b[43m(\u001b[49m\u001b[43mjoin_info\u001b[49m\u001b[38;5;241;43m.\u001b[39;49m\u001b[43mfinal_field\u001b[49m\u001b[43m,\u001b[49m\u001b[43m \u001b[49m\u001b[43mvalue\u001b[49m\u001b[43m,\u001b[49m\u001b[43m \u001b[49m\u001b[43mjoin_info\u001b[49m\u001b[38;5;241;43m.\u001b[39;49m\u001b[43mopts\u001b[49m\u001b[43m)\u001b[49m\n\u001b[0;32m   1523\u001b[0m \u001b[38;5;66;03m# split_exclude() needs to know which joins were generated for the\u001b[39;00m\n\u001b[0;32m   1524\u001b[0m \u001b[38;5;66;03m# lookup parts\u001b[39;00m\n\u001b[0;32m   1525\u001b[0m \u001b[38;5;28mself\u001b[39m\u001b[38;5;241m.\u001b[39m_lookup_joins \u001b[38;5;241m=\u001b[39m join_info\u001b[38;5;241m.\u001b[39mjoins\n",
      "File \u001b[1;32md:\\Project Y\\Portfolio management\\AW-portolio-management\\Lib\\site-packages\\django\\db\\models\\sql\\query.py:1335\u001b[0m, in \u001b[0;36mQuery.check_related_objects\u001b[1;34m(self, field, value, opts)\u001b[0m\n\u001b[0;32m   1330\u001b[0m     \u001b[38;5;28;01mraise\u001b[39;00m \u001b[38;5;167;01mValueError\u001b[39;00m(\n\u001b[0;32m   1331\u001b[0m         \u001b[38;5;124m'\u001b[39m\u001b[38;5;124mCannot use QuerySet for \u001b[39m\u001b[38;5;124m\"\u001b[39m\u001b[38;5;132;01m%s\u001b[39;00m\u001b[38;5;124m\"\u001b[39m\u001b[38;5;124m: Use a QuerySet for \u001b[39m\u001b[38;5;124m\"\u001b[39m\u001b[38;5;132;01m%s\u001b[39;00m\u001b[38;5;124m\"\u001b[39m\u001b[38;5;124m.\u001b[39m\u001b[38;5;124m'\u001b[39m\n\u001b[0;32m   1332\u001b[0m         \u001b[38;5;241m%\u001b[39m (value\u001b[38;5;241m.\u001b[39mmodel\u001b[38;5;241m.\u001b[39m_meta\u001b[38;5;241m.\u001b[39mobject_name, opts\u001b[38;5;241m.\u001b[39mobject_name)\n\u001b[0;32m   1333\u001b[0m     )\n\u001b[0;32m   1334\u001b[0m \u001b[38;5;28;01melif\u001b[39;00m \u001b[38;5;28mhasattr\u001b[39m(value, \u001b[38;5;124m\"\u001b[39m\u001b[38;5;124m_meta\u001b[39m\u001b[38;5;124m\"\u001b[39m):\n\u001b[1;32m-> 1335\u001b[0m     \u001b[38;5;28;43mself\u001b[39;49m\u001b[38;5;241;43m.\u001b[39;49m\u001b[43mcheck_query_object_type\u001b[49m\u001b[43m(\u001b[49m\u001b[43mvalue\u001b[49m\u001b[43m,\u001b[49m\u001b[43m \u001b[49m\u001b[43mopts\u001b[49m\u001b[43m,\u001b[49m\u001b[43m \u001b[49m\u001b[43mfield\u001b[49m\u001b[43m)\u001b[49m\n\u001b[0;32m   1336\u001b[0m \u001b[38;5;28;01melif\u001b[39;00m \u001b[38;5;28mhasattr\u001b[39m(value, \u001b[38;5;124m\"\u001b[39m\u001b[38;5;124m__iter__\u001b[39m\u001b[38;5;124m\"\u001b[39m):\n\u001b[0;32m   1337\u001b[0m     \u001b[38;5;28;01mfor\u001b[39;00m v \u001b[38;5;129;01min\u001b[39;00m value:\n",
      "File \u001b[1;32md:\\Project Y\\Portfolio management\\AW-portolio-management\\Lib\\site-packages\\django\\db\\models\\sql\\query.py:1312\u001b[0m, in \u001b[0;36mQuery.check_query_object_type\u001b[1;34m(self, value, opts, field)\u001b[0m\n\u001b[0;32m   1310\u001b[0m \u001b[38;5;28;01mif\u001b[39;00m \u001b[38;5;28mhasattr\u001b[39m(value, \u001b[38;5;124m\"\u001b[39m\u001b[38;5;124m_meta\u001b[39m\u001b[38;5;124m\"\u001b[39m):\n\u001b[0;32m   1311\u001b[0m     \u001b[38;5;28;01mif\u001b[39;00m \u001b[38;5;129;01mnot\u001b[39;00m check_rel_lookup_compatibility(value\u001b[38;5;241m.\u001b[39m_meta\u001b[38;5;241m.\u001b[39mmodel, opts, field):\n\u001b[1;32m-> 1312\u001b[0m         \u001b[38;5;28;01mraise\u001b[39;00m \u001b[38;5;167;01mValueError\u001b[39;00m(\n\u001b[0;32m   1313\u001b[0m             \u001b[38;5;124m'\u001b[39m\u001b[38;5;124mCannot query \u001b[39m\u001b[38;5;124m\"\u001b[39m\u001b[38;5;132;01m%s\u001b[39;00m\u001b[38;5;124m\"\u001b[39m\u001b[38;5;124m: Must be \u001b[39m\u001b[38;5;124m\"\u001b[39m\u001b[38;5;132;01m%s\u001b[39;00m\u001b[38;5;124m\"\u001b[39m\u001b[38;5;124m instance.\u001b[39m\u001b[38;5;124m'\u001b[39m\n\u001b[0;32m   1314\u001b[0m             \u001b[38;5;241m%\u001b[39m (value, opts\u001b[38;5;241m.\u001b[39mobject_name)\n\u001b[0;32m   1315\u001b[0m         )\n",
      "\u001b[1;31mValueError\u001b[0m: Cannot query \"Account: Test broker\": Must be \"Transactions\" instance."
     ]
    }
   ],
   "source": [
    "from common.models import Accounts\n",
    "\n",
    "user = CustomUser.objects.get(username='Y')\n",
    "\n",
    "a = Accounts.objects.get(broker__investor=user, name='Test broker')\n",
    "a.transactions.filter(quantity__isnull=False)\n",
    "\n",
    "s = Assets.objects.filter(transactions__broker_account=a, transactions__date__lte=date(2020,6,1))\n",
    "s.distinct().count()\n"
   ]
  },
  {
   "cell_type": "code",
   "execution_count": 10,
   "metadata": {},
   "outputs": [
    {
     "name": "stdout",
     "output_type": "stream",
     "text": [
      "Consumer received: Initial async value from generator\n",
      "Sent initial value\n",
      "Received from generator: Sending 0\n",
      "Response from consumer: Message from consumer\n",
      "Response from consumer: None\n",
      "Received from generator: Sending 2\n",
      "Response from consumer: Message from consumer\n"
     ]
    },
    {
     "ename": "StopAsyncIteration",
     "evalue": "",
     "output_type": "error",
     "traceback": [
      "\u001b[1;31m---------------------------------------------------------------------------\u001b[0m",
      "\u001b[1;31mStopAsyncIteration\u001b[0m                        Traceback (most recent call last)",
      "Cell \u001b[1;32mIn[10], line 29\u001b[0m\n\u001b[0;32m     23\u001b[0m         \u001b[38;5;66;03m# print(f\"Consumer received: {response}\")\u001b[39;00m\n\u001b[0;32m     24\u001b[0m     \n\u001b[0;32m     25\u001b[0m     \u001b[38;5;66;03m# Close the async generator\u001b[39;00m\n\u001b[0;32m     26\u001b[0m     \u001b[38;5;28;01mawait\u001b[39;00m gen\u001b[38;5;241m.\u001b[39maclose()\n\u001b[1;32m---> 29\u001b[0m \u001b[38;5;28;01mawait\u001b[39;00m async_consumer()\n",
      "Cell \u001b[1;32mIn[10], line 22\u001b[0m, in \u001b[0;36masync_consumer\u001b[1;34m()\u001b[0m\n\u001b[0;32m     19\u001b[0m \u001b[38;5;28;01masync\u001b[39;00m \u001b[38;5;28;01mfor\u001b[39;00m generator_tick \u001b[38;5;129;01min\u001b[39;00m gen:\n\u001b[0;32m     20\u001b[0m     \u001b[38;5;28mprint\u001b[39m(\u001b[38;5;124mf\u001b[39m\u001b[38;5;124m\"\u001b[39m\u001b[38;5;124mReceived from generator: \u001b[39m\u001b[38;5;132;01m{\u001b[39;00mgenerator_tick\u001b[38;5;132;01m}\u001b[39;00m\u001b[38;5;124m\"\u001b[39m)\n\u001b[1;32m---> 22\u001b[0m     \u001b[38;5;28;01mawait\u001b[39;00m gen\u001b[38;5;241m.\u001b[39masend(\u001b[38;5;124mf\u001b[39m\u001b[38;5;124m\"\u001b[39m\u001b[38;5;124mMessage from consumer\u001b[39m\u001b[38;5;124m\"\u001b[39m)\n\u001b[0;32m     23\u001b[0m     \u001b[38;5;66;03m# print(f\"Consumer received: {response}\")\u001b[39;00m\n\u001b[0;32m     24\u001b[0m \n\u001b[0;32m     25\u001b[0m \u001b[38;5;66;03m# Close the async generator\u001b[39;00m\n\u001b[0;32m     26\u001b[0m \u001b[38;5;28;01mawait\u001b[39;00m gen\u001b[38;5;241m.\u001b[39maclose()\n",
      "\u001b[1;31mStopAsyncIteration\u001b[0m: "
     ]
    }
   ],
   "source": [
    "async def async_generator():\n",
    "    yield \"Initial async value from generator\"\n",
    "    # Process the received value\n",
    "    print(f\"Sent initial value\")\n",
    "    \n",
    "    for i in range(3):    \n",
    "        \n",
    "        response =yield f'Sending {i}'\n",
    "\n",
    "        print(f\"Response from consumer: {response}\")\n",
    "\n",
    "async def async_consumer():\n",
    "    gen = async_generator()\n",
    "    \n",
    "    # Start the async generator\n",
    "    result = await gen.asend(None)  # Pass None on the first call\n",
    "    print(f\"Consumer received: {result}\")\n",
    "\n",
    "    async for generator_tick in gen:\n",
    "        print(f\"Received from generator: {generator_tick}\")\n",
    "    \n",
    "        await gen.asend(f\"Message from consumer\")\n",
    "        # print(f\"Consumer received: {response}\")\n",
    "    \n",
    "    # Close the async generator\n",
    "    await gen.aclose()\n",
    "\n",
    "\n",
    "await async_consumer()"
   ]
  },
  {
   "cell_type": "code",
   "execution_count": 21,
   "metadata": {},
   "outputs": [
    {
     "name": "stdout",
     "output_type": "stream",
     "text": [
      "GetAccountsResponse(accounts=[Account(id='2016485761', type=<AccountType.ACCOUNT_TYPE_TINKOFF: 1>, name='Брокерский счёт', status=<AccountStatus.ACCOUNT_STATUS_OPEN: 2>, opened_date=datetime.datetime(2019, 12, 21, 0, 0, tzinfo=datetime.timezone.utc), closed_date=datetime.datetime(1970, 1, 1, 0, 0, tzinfo=datetime.timezone.utc), access_level=<AccessLevel.ACCOUNT_ACCESS_LEVEL_READ_ONLY: 2>), Account(id='2145117784', type=<AccountType.ACCOUNT_TYPE_TINKOFF_IIS: 2>, name='ИИС', status=<AccountStatus.ACCOUNT_STATUS_OPEN: 2>, opened_date=datetime.datetime(2024, 3, 18, 0, 0, tzinfo=datetime.timezone.utc), closed_date=datetime.datetime(1970, 1, 1, 0, 0, tzinfo=datetime.timezone.utc), access_level=<AccessLevel.ACCOUNT_ACCESS_LEVEL_READ_ONLY: 2>), Account(id='2204772891', type=<AccountType.ACCOUNT_TYPE_INVEST_BOX: 3>, name='Инвесткопилка', status=<AccountStatus.ACCOUNT_STATUS_OPEN: 2>, opened_date=datetime.datetime(2024, 11, 11, 0, 0, tzinfo=datetime.timezone.utc), closed_date=datetime.datetime(1970, 1, 1, 0, 0, tzinfo=datetime.timezone.utc), access_level=<AccessLevel.ACCOUNT_ACCESS_LEVEL_READ_ONLY: 2>), Account(id='2204775639', type=<AccountType.ACCOUNT_TYPE_INVEST_FUND: 4>, name='Накопительный счет плюс', status=<AccountStatus.ACCOUNT_STATUS_OPEN: 2>, opened_date=datetime.datetime(2024, 11, 11, 0, 0, tzinfo=datetime.timezone.utc), closed_date=datetime.datetime(1970, 1, 1, 0, 0, tzinfo=datetime.timezone.utc), access_level=<AccessLevel.ACCOUNT_ACCESS_LEVEL_READ_ONLY: 2>)])\n"
     ]
    }
   ],
   "source": [
    "from tinkoff.invest import Client\n",
    "\n",
    "from users.models import TinkoffApiToken\n",
    "\n",
    "user = CustomUser.objects.get(id=1)\n",
    "\n",
    "TM = TinkoffApiToken.objects.get(user=user, token_type='read_only', sandbox_mode=False, is_active=True)\n",
    "token = TM.get_token(user=user)\n",
    "\n",
    "with Client(token) as client:\n",
    "    accounts = client.users.get_accounts()\n",
    "    print(accounts)\n"
   ]
  },
  {
   "cell_type": "code",
   "execution_count": 25,
   "metadata": {},
   "outputs": [
    {
     "name": "stdout",
     "output_type": "stream",
     "text": [
      "Available accounts:\n",
      "1. Брокерский счёт (ID: 2016485761)\n",
      "2. ИИС (ID: 2145117784)\n",
      "3. Инвесткопилка (ID: 2204772891)\n",
      "4. Накопительный счет плюс (ID: 2204775639)\n",
      "\n",
      "Fetching operations for account: Брокерский счёт\n",
      "\n",
      "Recent operations (last 30 days):\n",
      "-------------\n",
      "OperationItem(cursor='1742553477478309351', broker_account_id='2016485761', id='1984992764470998309', parent_operation_id='', name='MIX-6.25 Индекс МосБиржи', date=datetime.datetime(2025, 3, 21, 10, 37, 57, 478000, tzinfo=datetime.timezone.utc), type=<OperationType.OPERATION_TYPE_BUY: 15>, description='Покупка 1 фьючерса MIX-6.25 Индекс МосБиржи', state=<OperationState.OPERATION_STATE_EXECUTED: 1>, instrument_uid='00cd9005-fded-495f-b46b-c0d501e030f7', figi='FUTMIX062500', instrument_type='futures', instrument_kind=<InstrumentType.INSTRUMENT_TYPE_FUTURES: 5>, position_uid='1fa5a66e-fbf3-47cc-b2b4-2ba96658c79f', payment=MoneyValue(currency='rub', units=-338675, nano=0), price=MoneyValue(currency='pt.', units=338675, nano=0), commission=MoneyValue(currency='rub', units=-22, nano=-410000000), yield_=MoneyValue(currency='pt.', units=-350, nano=0), yield_relative=Quotation(units=-1, nano=900000000), accrued_int=MoneyValue(currency='', units=0, nano=0), quantity=1, quantity_rest=0, quantity_done=1, cancel_date_time=datetime.datetime(1970, 1, 1, 0, 0, tzinfo=datetime.timezone.utc), cancel_reason='', trades_info=OperationItemTrades(trades=[OperationItemTrade(num='1984992764470782850', date=datetime.datetime(2025, 3, 21, 10, 37, 57, 478000, tzinfo=datetime.timezone.utc), quantity=1, price=MoneyValue(currency='pt.', units=338675, nano=0), yield_=MoneyValue(currency='pt.', units=-350, nano=0), yield_relative=Quotation(units=-1, nano=900000000))]), asset_uid='1fa5a66e-fbf3-47cc-b2b4-2ba96658c79f', child_operations=[ChildOperationItem(instrument_uid='00cd9005-fded-495f-b46b-c0d501e030f7', payment=MoneyValue(currency='rub', units=-22, nano=-410000000))])\n",
      "-------------\n",
      "-------------\n",
      "OperationItem(cursor='1742310159641645132', broker_account_id='2016485761', id='1984992751586709756', parent_operation_id='', name='MIX-3.25 Индекс МосБиржи', date=datetime.datetime(2025, 3, 18, 15, 2, 39, 641000, tzinfo=datetime.timezone.utc), type=<OperationType.OPERATION_TYPE_BUY: 15>, description='Покупка 1 фьючерса MIX-3.25 Индекс МосБиржи', state=<OperationState.OPERATION_STATE_EXECUTED: 1>, instrument_uid='b77e4726-6e74-4a87-a789-602b2eab52d3', figi='FUTMIX032500', instrument_type='futures', instrument_kind=<InstrumentType.INSTRUMENT_TYPE_FUTURES: 5>, position_uid='1fa4e95c-9a1b-4f46-8457-08e8089c2973', payment=MoneyValue(currency='rub', units=-328600, nano=0), price=MoneyValue(currency='pt.', units=328600, nano=0), commission=MoneyValue(currency='rub', units=-21, nano=-480000000), yield_=MoneyValue(currency='', units=0, nano=0), yield_relative=Quotation(units=0, nano=0), accrued_int=MoneyValue(currency='', units=0, nano=0), quantity=1, quantity_rest=0, quantity_done=1, cancel_date_time=datetime.datetime(1970, 1, 1, 0, 0, tzinfo=datetime.timezone.utc), cancel_reason='', trades_info=OperationItemTrades(trades=[OperationItemTrade(num='1984992751585986179', date=datetime.datetime(2025, 3, 18, 15, 2, 39, 641000, tzinfo=datetime.timezone.utc), quantity=1, price=MoneyValue(currency='pt.', units=328600, nano=0), yield_=MoneyValue(currency='', units=0, nano=0), yield_relative=Quotation(units=0, nano=0))]), asset_uid='1fa4e95c-9a1b-4f46-8457-08e8089c2973', child_operations=[ChildOperationItem(instrument_uid='b77e4726-6e74-4a87-a789-602b2eab52d3', payment=MoneyValue(currency='rub', units=-21, nano=-480000000))])\n",
      "-------------\n"
     ]
    }
   ],
   "source": [
    "from tinkoff.invest import Client, OperationState, OperationType, GetOperationsByCursorRequest, InstrumentType\n",
    "from tinkoff.invest.utils import now, quotation_to_decimal\n",
    "from datetime import timedelta\n",
    "\n",
    "from constants import OPERATION_TYPE_DESCRIPTIONS, INSTRUMENT_KIND_DESCRIPTIONS\n",
    "from users.models import TinkoffApiToken\n",
    "\n",
    "user = CustomUser.objects.get(id=1)\n",
    "\n",
    "def get_recent_operations(user, days_back=30):\n",
    "    # Fixed token retrieval method using TinkoffApiToken directly\n",
    "    TM = TinkoffApiToken.objects.get(user=user, token_type='read_only', sandbox_mode=False, is_active=True)\n",
    "    token = TM.get_token(user=user)\n",
    "    \n",
    "    with Client(token) as client:\n",
    "        accounts = client.users.get_accounts()\n",
    "        if not accounts.accounts:\n",
    "            print(\"No accounts found.\")\n",
    "            return\n",
    "        \n",
    "        # If there's more than one account, let the user choose\n",
    "        if len(accounts.accounts) > 1:\n",
    "            print(\"Available accounts:\")\n",
    "            for i, account in enumerate(accounts.accounts, 1):\n",
    "                print(f\"{i}. {account.name} (ID: {account.id})\")\n",
    "            \n",
    "            while True:\n",
    "                try:\n",
    "                    choice = int(input(\"Select an account number: \")) - 1\n",
    "                    if 0 <= choice < len(accounts.accounts):\n",
    "                        selected_account = accounts.accounts[choice]\n",
    "                        break\n",
    "                    else:\n",
    "                        print(\"Invalid selection. Please try again.\")\n",
    "                except ValueError:\n",
    "                    print(\"Please enter a valid number.\")\n",
    "        else:\n",
    "            selected_account = accounts.accounts[0]\n",
    "        \n",
    "        print(f\"\\nFetching operations for account: {selected_account.name}\")\n",
    "        \n",
    "        # Set the time range for operations\n",
    "        to_date = now()\n",
    "        from_date = to_date - timedelta(days=days_back)\n",
    "        \n",
    "        # Initialize cursor and operations list\n",
    "        cursor = \"\"\n",
    "        all_operations = []\n",
    "        \n",
    "        while True:\n",
    "            # Request operations\n",
    "            response = client.operations.get_operations_by_cursor(\n",
    "                GetOperationsByCursorRequest(\n",
    "                    account_id=selected_account.id,\n",
    "                    from_=from_date,\n",
    "                    to=to_date,\n",
    "                    cursor=cursor,\n",
    "                    limit=1000,  # Adjust this value as needed\n",
    "                    operation_types=[],  # Empty list means all types\n",
    "                    state=OperationState.OPERATION_STATE_EXECUTED\n",
    "                )\n",
    "            )\n",
    "            \n",
    "            all_operations.extend(response.items)\n",
    "            \n",
    "            if not response.has_next:\n",
    "                break\n",
    "            \n",
    "            cursor = response.next_cursor\n",
    "        \n",
    "        # Process and display operations\n",
    "        if not all_operations:\n",
    "            print(\"No operations found in the specified time range.\")\n",
    "            return\n",
    "        \n",
    "        print(f\"\\nRecent operations (last {days_back} days):\")\n",
    "        for op in all_operations:\n",
    "            operation_date = op.date.strftime(\"%Y-%m-%d %H:%M:%S\")\n",
    "            operation_type = OPERATION_TYPE_DESCRIPTIONS.get(op.type, \"Unknown Operation Type\")\n",
    "            instrument_name = op.name\n",
    "            instrument_kind = INSTRUMENT_KIND_DESCRIPTIONS.get(op.instrument_kind, \"Unknown Instrument Type\")\n",
    "            quantity = op.quantity\n",
    "            price = quotation_to_decimal(op.price) if op.price else \"N/A\"\n",
    "            currency = op.payment.currency if op.payment else \"N/A\"\n",
    "            payment = quotation_to_decimal(op.payment) if op.payment else \"N/A\"\n",
    "\n",
    "            if operation_type == 'Buy Securities':\n",
    "                print(\"-------------\")\n",
    "                print(op)\n",
    "                print(\"-------------\")\n",
    "            \n",
    "            # print(f\"Date: {operation_date}\")\n",
    "            # print(f\"Type: {operation_type}\")\n",
    "            # print(f\"Instrument: {instrument_name}\")\n",
    "            # print(f\"Description: {op.description}\")\n",
    "            # print(f\"Instrument type: {op.instrument_type}\")\n",
    "            # print(f\"Instrument kind: {instrument_kind}\")\n",
    "            # print(f\"Quantity: {quantity}\")\n",
    "            # print(f\"Price: {price} {currency}\")\n",
    "            # print(f\"Total Payment: {payment} {currency}\")\n",
    "            # print(f\"Trades list: {op.trades_info}\")\n",
    "            # print(\"---\")\n",
    "\n",
    "# Example usage:\n",
    "get_recent_operations(user, days_back=30) "
   ]
  },
  {
   "cell_type": "code",
   "execution_count": 1,
   "metadata": {},
   "outputs": [
    {
     "ename": "NameError",
     "evalue": "name 'Brokers' is not defined",
     "output_type": "error",
     "traceback": [
      "\u001b[1;31m---------------------------------------------------------------------------\u001b[0m",
      "\u001b[1;31mNameError\u001b[0m                                 Traceback (most recent call last)",
      "Cell \u001b[1;32mIn[1], line 1\u001b[0m\n\u001b[1;32m----> 1\u001b[0m broker \u001b[38;5;241m=\u001b[39m \u001b[43mBrokers\u001b[49m\u001b[38;5;241m.\u001b[39mobjects\u001b[38;5;241m.\u001b[39mget(name\u001b[38;5;241m=\u001b[39m\u001b[38;5;124m'\u001b[39m\u001b[38;5;124mTinkoff\u001b[39m\u001b[38;5;124m'\u001b[39m)\n\u001b[0;32m      3\u001b[0m \u001b[38;5;28;01mfor\u001b[39;00m b \u001b[38;5;129;01min\u001b[39;00m Brokers\u001b[38;5;241m.\u001b[39mobjects\u001b[38;5;241m.\u001b[39mall():\n\u001b[0;32m      4\u001b[0m     \u001b[38;5;28mprint\u001b[39m(b\u001b[38;5;241m.\u001b[39mname, b\u001b[38;5;241m.\u001b[39mid)\n",
      "\u001b[1;31mNameError\u001b[0m: name 'Brokers' is not defined"
     ]
    }
   ],
   "source": [
    "broker = Brokers.objects.get(name='Tinkoff')\n",
    "\n",
    "for b in Brokers.objects.all():\n",
    "    print(b.name, b.id)\n",
    "\n",
    "# for i in broker.tinkoff_tokens.all():\n",
    "#     print(i)\n",
    "\n",
    "broker.tinkoff_tokens.exists()"
   ]
  }
 ],
 "metadata": {
  "kernelspec": {
   "display_name": "AW-portolio-management",
   "language": "python",
   "name": "python3"
  },
  "language_info": {
   "codemirror_mode": {
    "name": "ipython",
    "version": 3
   },
   "file_extension": ".py",
   "mimetype": "text/x-python",
   "name": "python",
   "nbconvert_exporter": "python",
   "pygments_lexer": "ipython3",
   "version": "3.12.0"
  }
 },
 "nbformat": 4,
 "nbformat_minor": 2
}
