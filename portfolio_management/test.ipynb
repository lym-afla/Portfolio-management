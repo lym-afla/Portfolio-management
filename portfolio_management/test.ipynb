{
 "cells": [
  {
   "cell_type": "code",
   "execution_count": 1,
   "metadata": {},
   "outputs": [],
   "source": [
    "import os\n",
    "import django\n",
    "\n",
    "os.environ.setdefault(\"DJANGO_SETTINGS_MODULE\", \"portfolio_management.settings\")\n",
    "os.environ[\"DJANGO_ALLOW_ASYNC_UNSAFE\"] = \"true\"\n",
    "\n",
    "django.setup()\n",
    "\n",
    "from common.models import Brokers, Prices, Transactions, FX, Assets\n",
    "from users.models import CustomUser\n",
    "from utils import NAV_at_date, Irr, chart_dates, chart_labels, chart_colour, portfolio_at_date, calculate_security_nav, currency_format, calculate_portfolio_value\n",
    "from datetime import date\n",
    "from django.db.models import F, Sum"
   ]
  },
  {
   "cell_type": "code",
   "execution_count": 2,
   "metadata": {},
   "outputs": [],
   "source": [
    "selected_brokers = broker_ids = [2]\n",
    "effective_current_date = date.today()\n",
    "currency_target = 'USD'\n",
    "number_of_digits = 2"
   ]
  },
  {
   "cell_type": "code",
   "execution_count": 3,
   "metadata": {},
   "outputs": [
    {
     "name": "stdout",
     "output_type": "stream",
     "text": [
      "Price: 165.00\n",
      "Value: 16500.00\n",
      "utils.py. line 127. Transaction details: 50.00\n",
      "utils.py. line 127. Transaction details: None\n",
      "utils.py. line 127. Transaction details: 50.00\n",
      "utils. line 146. Cash flows: [Decimal('-5000.36'), Decimal('0.76'), Decimal('-7500.50'), Decimal('16500.00')], Transaction dates: [datetime.date(2020, 6, 2), datetime.date(2020, 6, 25), datetime.date(2020, 9, 1), datetime.date(2024, 5, 13)]\n"
     ]
    },
    {
     "data": {
      "text/plain": [
       "0.0758"
      ]
     },
     "execution_count": 3,
     "metadata": {},
     "output_type": "execute_result"
    }
   ],
   "source": [
    "from pyxirr import xirr\n",
    "\n",
    "\n",
    "def Irr(date, currency, asset_id=None, broker_id_list=None, start_date=''):\n",
    "    \n",
    "    # Calculate portfolio value\n",
    "    portfolio_value = calculate_portfolio_value(date, currency, asset_id, broker_id_list)\n",
    "\n",
    "    if portfolio_value < 0:\n",
    "        return 'N/R'\n",
    "    \n",
    "    cash_flows = []\n",
    "    transaction_dates = []\n",
    "\n",
    "    # Collect cash flows and transaction dates for the portfolio\n",
    "    transactions = Transactions.objects.filter(date__lte=date, security_id=asset_id)\n",
    "    \n",
    "    # if asset_id:\n",
    "    #     transactions = transactions.filter(security_id=asset_id)\n",
    "\n",
    "    if broker_id_list:\n",
    "        transactions = transactions.filter(broker_id__in=broker_id_list)\n",
    "\n",
    "    if start_date:\n",
    "        transactions = transactions.filter(date__gte=start_date)\n",
    "\n",
    "    # print(f\"utils.py. line 123. Transactions: {transactions}\")\n",
    "\n",
    "    # Calculate cash flows and transaction dates\n",
    "    for transaction in transactions:\n",
    "        print(f\"utils.py. line 127. Transaction details: {transaction.quantity}\")\n",
    "        fx_rate = FX.get_rate(transaction.currency.upper(), currency, transaction.date)['FX']\n",
    "\n",
    "        if transaction.type == 'Cash in' or transaction.type == 'Cash out':\n",
    "            cash_flow = -transaction.cash_flow\n",
    "        else:\n",
    "            cash_flow = transaction.cash_flow or (-transaction.quantity * transaction.price + (transaction.commission or 0))\n",
    "        \n",
    "        cash_flows.append(round(cash_flow * fx_rate, 2))\n",
    "        transaction_dates.append(transaction.date)\n",
    "\n",
    "    # Calculate start portfolio value if provided\n",
    "    if start_date:\n",
    "        start_portfolio_value = calculate_portfolio_value(start_date, currency, asset_id, broker_id_list)\n",
    "        cash_flows.insert(0, -start_portfolio_value)\n",
    "        transaction_dates.insert(0, start_date)\n",
    "\n",
    "    # Calculate portfolio value\n",
    "    portfolio_value = calculate_portfolio_value(date, currency, asset_id, broker_id_list)\n",
    "\n",
    "    # Append end portfolio value to cash flows and dates\n",
    "    cash_flows.append(portfolio_value)\n",
    "    transaction_dates.append(date)\n",
    "\n",
    "    print(f\"utils. line 146. Cash flows: {cash_flows}, Transaction dates: {transaction_dates}\")\n",
    "\n",
    "    try:\n",
    "        return round(xirr(transaction_dates, cash_flows), 4)\n",
    "    except:\n",
    "        return 'N/A'\n",
    "\n",
    "# def calculate_portfolio_value(date, currency=None, asset_id=None, broker_id_list=None):\n",
    "#     portfolio_value = 0\n",
    "\n",
    "#     if asset_id is None:\n",
    "#         portfolio_value = NAV_at_date(broker_id_list, date, currency, [])['Total NAV']\n",
    "#     else:\n",
    "#         asset = Assets.objects.get(id=asset_id)\n",
    "#         # print(f\"utils.py. line 165. asset current price: {asset.current_price(date)}\")\n",
    "#         # print(f\"utils.py. line 167. Asset data: {asset.current_price(date).price}, {asset.position(date, broker_id_list)}\")\n",
    "#         portfolio_value = round(asset.price_at_date(date, currency).price * asset.position(date, broker_id_list), 2)\n",
    "\n",
    "#     return portfolio_value\n",
    "\n",
    "security_id = 4\n",
    "security = Assets.objects.get(id=security_id)\n",
    "print('Price:', security.price_at_date(effective_current_date).price)\n",
    "print('Value:', calculate_portfolio_value(effective_current_date, security.currency, security_id))\n",
    "\n",
    "Irr(effective_current_date, security.currency, security_id)"
   ]
  },
  {
   "cell_type": "code",
   "execution_count": 26,
   "metadata": {},
   "outputs": [
    {
     "name": "stdout",
     "output_type": "stream",
     "text": [
      "['commission', 'realized_gl', 'current_value', 'entry_value', 'total_return_amount']\n"
     ]
    }
   ],
   "source": [
    "totals = ['entry_value', 'current_value', 'realized_gl', 'unrealized_gl', 'capital_distribution', 'commission', 'total_return']\n",
    "categories = ['current_value', 'realized_gl', 'commission', 'investment_date']\n",
    "\n",
    "\n",
    "p = list(set(totals) & set(categories)) + ['entry_value', 'total_return_amount']\n",
    "\n",
    "# totals and categories + ['entry_value', 'total_return_amount']\n",
    "print(p)"
   ]
  }
 ],
 "metadata": {
  "kernelspec": {
   "display_name": "Python 3",
   "language": "python",
   "name": "python3"
  },
  "language_info": {
   "codemirror_mode": {
    "name": "ipython",
    "version": 3
   },
   "file_extension": ".py",
   "mimetype": "text/x-python",
   "name": "python",
   "nbconvert_exporter": "python",
   "pygments_lexer": "ipython3",
   "version": "3.11.4"
  }
 },
 "nbformat": 4,
 "nbformat_minor": 2
}
