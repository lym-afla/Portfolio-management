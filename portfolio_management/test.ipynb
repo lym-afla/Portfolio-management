{
 "cells": [
  {
   "cell_type": "code",
   "execution_count": 1,
   "metadata": {},
   "outputs": [],
   "source": [
    "import os\n",
    "import django\n",
    "\n",
    "os.environ.setdefault(\"DJANGO_SETTINGS_MODULE\", \"portfolio_management.settings\")\n",
    "os.environ[\"DJANGO_ALLOW_ASYNC_UNSAFE\"] = \"true\"\n",
    "\n",
    "django.setup()\n",
    "\n",
    "from common.models import Brokers, Prices, Transactions, FX, Assets\n",
    "from users.models import CustomUser\n",
    "from utils import NAV_at_date, Irr, chart_dates, chart_labels, chart_colour, portfolio_at_date, calculate_security_nav, currency_format, calculate_portfolio_value\n",
    "from datetime import date\n",
    "from django.db.models import F, Sum"
   ]
  },
  {
   "cell_type": "code",
   "execution_count": 2,
   "metadata": {},
   "outputs": [
    {
     "data": {
      "text/plain": [
       "<CustomUser: Yaroslav>"
      ]
     },
     "execution_count": 2,
     "metadata": {},
     "output_type": "execute_result"
    }
   ],
   "source": [
    "selected_brokers = broker_ids = [2]\n",
    "effective_current_date = date.today()\n",
    "currency_target = 'USD'\n",
    "number_of_digits = 2\n",
    "\n",
    "CustomUser.objects.get(id=2)"
   ]
  },
  {
   "cell_type": "code",
   "execution_count": 3,
   "metadata": {},
   "outputs": [
    {
     "name": "stdout",
     "output_type": "stream",
     "text": [
      "Price: 165.00\n"
     ]
    },
    {
     "ename": "TypeError",
     "evalue": "'NoneType' object is not iterable",
     "output_type": "error",
     "traceback": [
      "\u001b[1;31m---------------------------------------------------------------------------\u001b[0m",
      "\u001b[1;31mTypeError\u001b[0m                                 Traceback (most recent call last)",
      "Cell \u001b[1;32mIn[3], line 78\u001b[0m\n\u001b[0;32m     76\u001b[0m security \u001b[38;5;241m=\u001b[39m Assets\u001b[38;5;241m.\u001b[39mobjects\u001b[38;5;241m.\u001b[39mget(\u001b[38;5;28mid\u001b[39m\u001b[38;5;241m=\u001b[39msecurity_id)\n\u001b[0;32m     77\u001b[0m \u001b[38;5;28mprint\u001b[39m(\u001b[38;5;124m'\u001b[39m\u001b[38;5;124mPrice:\u001b[39m\u001b[38;5;124m'\u001b[39m, security\u001b[38;5;241m.\u001b[39mprice_at_date(effective_current_date)\u001b[38;5;241m.\u001b[39mprice)\n\u001b[1;32m---> 78\u001b[0m \u001b[38;5;28mprint\u001b[39m(\u001b[38;5;124m'\u001b[39m\u001b[38;5;124mValue:\u001b[39m\u001b[38;5;124m'\u001b[39m, \u001b[43mcalculate_portfolio_value\u001b[49m\u001b[43m(\u001b[49m\u001b[43meffective_current_date\u001b[49m\u001b[43m,\u001b[49m\u001b[43m \u001b[49m\u001b[43msecurity\u001b[49m\u001b[38;5;241;43m.\u001b[39;49m\u001b[43mcurrency\u001b[49m\u001b[43m,\u001b[49m\u001b[43m \u001b[49m\u001b[43msecurity_id\u001b[49m\u001b[43m)\u001b[49m)\n\u001b[0;32m     80\u001b[0m Irr(effective_current_date, security\u001b[38;5;241m.\u001b[39mcurrency, security_id)\n",
      "File \u001b[1;32md:\\Project Y\\Portfolio management\\portfolio_management\\utils.py:186\u001b[0m, in \u001b[0;36mcalculate_portfolio_value\u001b[1;34m(user_id, date, currency, asset_id, broker_id_list)\u001b[0m\n\u001b[0;32m    183\u001b[0m \u001b[38;5;28;01mdef\u001b[39;00m \u001b[38;5;21mcalculate_portfolio_value\u001b[39m(user_id, date, currency\u001b[38;5;241m=\u001b[39m\u001b[38;5;28;01mNone\u001b[39;00m, asset_id\u001b[38;5;241m=\u001b[39m\u001b[38;5;28;01mNone\u001b[39;00m, broker_id_list\u001b[38;5;241m=\u001b[39m\u001b[38;5;28;01mNone\u001b[39;00m):\n\u001b[0;32m    185\u001b[0m     \u001b[38;5;28;01mif\u001b[39;00m asset_id \u001b[38;5;129;01mis\u001b[39;00m \u001b[38;5;28;01mNone\u001b[39;00m:\n\u001b[1;32m--> 186\u001b[0m         portfolio_value \u001b[38;5;241m=\u001b[39m \u001b[43mNAV_at_date\u001b[49m\u001b[43m(\u001b[49m\u001b[43muser_id\u001b[49m\u001b[43m,\u001b[49m\u001b[43m \u001b[49m\u001b[43mbroker_id_list\u001b[49m\u001b[43m,\u001b[49m\u001b[43m \u001b[49m\u001b[43mdate\u001b[49m\u001b[43m,\u001b[49m\u001b[43m \u001b[49m\u001b[43mcurrency\u001b[49m\u001b[43m,\u001b[49m\u001b[43m \u001b[49m\u001b[43m[\u001b[49m\u001b[43m]\u001b[49m\u001b[43m)\u001b[49m[\u001b[38;5;124m'\u001b[39m\u001b[38;5;124mTotal NAV\u001b[39m\u001b[38;5;124m'\u001b[39m]\n\u001b[0;32m    187\u001b[0m     \u001b[38;5;28;01melse\u001b[39;00m:\n\u001b[0;32m    188\u001b[0m         asset \u001b[38;5;241m=\u001b[39m Assets\u001b[38;5;241m.\u001b[39mobjects\u001b[38;5;241m.\u001b[39mget(\u001b[38;5;28mid\u001b[39m\u001b[38;5;241m=\u001b[39masset_id)\n",
      "File \u001b[1;32md:\\Project Y\\Portfolio management\\portfolio_management\\utils.py:68\u001b[0m, in \u001b[0;36mNAV_at_date\u001b[1;34m(user_id, broker_ids, date, target_currency, breakdown)\u001b[0m\n\u001b[0;32m     63\u001b[0m \u001b[38;5;28;01mdef\u001b[39;00m \u001b[38;5;21mNAV_at_date\u001b[39m(user_id, broker_ids, date, target_currency, breakdown\u001b[38;5;241m=\u001b[39m[\u001b[38;5;124m'\u001b[39m\u001b[38;5;124mAsset type\u001b[39m\u001b[38;5;124m'\u001b[39m, \u001b[38;5;124m'\u001b[39m\u001b[38;5;124mCurrency\u001b[39m\u001b[38;5;124m'\u001b[39m, \u001b[38;5;124m'\u001b[39m\u001b[38;5;124mAsset class\u001b[39m\u001b[38;5;124m'\u001b[39m, \u001b[38;5;124m'\u001b[39m\u001b[38;5;124mBroker\u001b[39m\u001b[38;5;124m'\u001b[39m]):\n\u001b[0;32m     64\u001b[0m     \n\u001b[0;32m     65\u001b[0m     \u001b[38;5;66;03m# print(f\"utils.py, line 51 {breakdown}\")\u001b[39;00m\n\u001b[0;32m     67\u001b[0m     portfolio \u001b[38;5;241m=\u001b[39m portfolio_at_date(user_id, date, broker_ids)\n\u001b[1;32m---> 68\u001b[0m     portfolio_brokers \u001b[38;5;241m=\u001b[39m \u001b[43mBrokers\u001b[49m\u001b[38;5;241;43m.\u001b[39;49m\u001b[43mobjects\u001b[49m\u001b[38;5;241;43m.\u001b[39;49m\u001b[43mfilter\u001b[49m\u001b[43m(\u001b[49m\u001b[43minvestor__id\u001b[49m\u001b[38;5;241;43m=\u001b[39;49m\u001b[43muser_id\u001b[49m\u001b[43m,\u001b[49m\u001b[43m \u001b[49m\u001b[43mid__in\u001b[49m\u001b[38;5;241;43m=\u001b[39;49m\u001b[43mbroker_ids\u001b[49m\u001b[43m)\u001b[49m\n\u001b[0;32m     69\u001b[0m     analysis \u001b[38;5;241m=\u001b[39m {\u001b[38;5;124m'\u001b[39m\u001b[38;5;124mAsset type\u001b[39m\u001b[38;5;124m'\u001b[39m: {}, \u001b[38;5;124m'\u001b[39m\u001b[38;5;124mCurrency\u001b[39m\u001b[38;5;124m'\u001b[39m: {}, \u001b[38;5;124m'\u001b[39m\u001b[38;5;124mAsset class\u001b[39m\u001b[38;5;124m'\u001b[39m: {}, \u001b[38;5;124m'\u001b[39m\u001b[38;5;124mBroker\u001b[39m\u001b[38;5;124m'\u001b[39m: {}, \u001b[38;5;124m'\u001b[39m\u001b[38;5;124mTotal NAV\u001b[39m\u001b[38;5;124m'\u001b[39m: \u001b[38;5;241m0\u001b[39m}\n\u001b[0;32m     70\u001b[0m     item_type \u001b[38;5;241m=\u001b[39m {\u001b[38;5;124m'\u001b[39m\u001b[38;5;124mAsset type\u001b[39m\u001b[38;5;124m'\u001b[39m: \u001b[38;5;124m'\u001b[39m\u001b[38;5;124mtype\u001b[39m\u001b[38;5;124m'\u001b[39m, \u001b[38;5;124m'\u001b[39m\u001b[38;5;124mCurrency\u001b[39m\u001b[38;5;124m'\u001b[39m: \u001b[38;5;124m'\u001b[39m\u001b[38;5;124mcurrency\u001b[39m\u001b[38;5;124m'\u001b[39m, \u001b[38;5;124m'\u001b[39m\u001b[38;5;124mAsset class\u001b[39m\u001b[38;5;124m'\u001b[39m: \u001b[38;5;124m'\u001b[39m\u001b[38;5;124mexposure\u001b[39m\u001b[38;5;124m'\u001b[39m}\n",
      "File \u001b[1;32md:\\Project Y\\Portfolio management\\AW-portolio-management\\Lib\\site-packages\\django\\db\\models\\manager.py:87\u001b[0m, in \u001b[0;36mBaseManager._get_queryset_methods.<locals>.create_method.<locals>.manager_method\u001b[1;34m(self, *args, **kwargs)\u001b[0m\n\u001b[0;32m     85\u001b[0m \u001b[38;5;129m@wraps\u001b[39m(method)\n\u001b[0;32m     86\u001b[0m \u001b[38;5;28;01mdef\u001b[39;00m \u001b[38;5;21mmanager_method\u001b[39m(\u001b[38;5;28mself\u001b[39m, \u001b[38;5;241m*\u001b[39margs, \u001b[38;5;241m*\u001b[39m\u001b[38;5;241m*\u001b[39mkwargs):\n\u001b[1;32m---> 87\u001b[0m     \u001b[38;5;28;01mreturn\u001b[39;00m \u001b[38;5;28;43mgetattr\u001b[39;49m\u001b[43m(\u001b[49m\u001b[38;5;28;43mself\u001b[39;49m\u001b[38;5;241;43m.\u001b[39;49m\u001b[43mget_queryset\u001b[49m\u001b[43m(\u001b[49m\u001b[43m)\u001b[49m\u001b[43m,\u001b[49m\u001b[43m \u001b[49m\u001b[43mname\u001b[49m\u001b[43m)\u001b[49m\u001b[43m(\u001b[49m\u001b[38;5;241;43m*\u001b[39;49m\u001b[43margs\u001b[49m\u001b[43m,\u001b[49m\u001b[43m \u001b[49m\u001b[38;5;241;43m*\u001b[39;49m\u001b[38;5;241;43m*\u001b[39;49m\u001b[43mkwargs\u001b[49m\u001b[43m)\u001b[49m\n",
      "File \u001b[1;32md:\\Project Y\\Portfolio management\\AW-portolio-management\\Lib\\site-packages\\django\\db\\models\\query.py:1476\u001b[0m, in \u001b[0;36mQuerySet.filter\u001b[1;34m(self, *args, **kwargs)\u001b[0m\n\u001b[0;32m   1471\u001b[0m \u001b[38;5;250m\u001b[39m\u001b[38;5;124;03m\"\"\"\u001b[39;00m\n\u001b[0;32m   1472\u001b[0m \u001b[38;5;124;03mReturn a new QuerySet instance with the args ANDed to the existing\u001b[39;00m\n\u001b[0;32m   1473\u001b[0m \u001b[38;5;124;03mset.\u001b[39;00m\n\u001b[0;32m   1474\u001b[0m \u001b[38;5;124;03m\"\"\"\u001b[39;00m\n\u001b[0;32m   1475\u001b[0m \u001b[38;5;28mself\u001b[39m\u001b[38;5;241m.\u001b[39m_not_support_combined_queries(\u001b[38;5;124m\"\u001b[39m\u001b[38;5;124mfilter\u001b[39m\u001b[38;5;124m\"\u001b[39m)\n\u001b[1;32m-> 1476\u001b[0m \u001b[38;5;28;01mreturn\u001b[39;00m \u001b[38;5;28;43mself\u001b[39;49m\u001b[38;5;241;43m.\u001b[39;49m\u001b[43m_filter_or_exclude\u001b[49m\u001b[43m(\u001b[49m\u001b[38;5;28;43;01mFalse\u001b[39;49;00m\u001b[43m,\u001b[49m\u001b[43m \u001b[49m\u001b[43margs\u001b[49m\u001b[43m,\u001b[49m\u001b[43m \u001b[49m\u001b[43mkwargs\u001b[49m\u001b[43m)\u001b[49m\n",
      "File \u001b[1;32md:\\Project Y\\Portfolio management\\AW-portolio-management\\Lib\\site-packages\\django\\db\\models\\query.py:1494\u001b[0m, in \u001b[0;36mQuerySet._filter_or_exclude\u001b[1;34m(self, negate, args, kwargs)\u001b[0m\n\u001b[0;32m   1492\u001b[0m     clone\u001b[38;5;241m.\u001b[39m_deferred_filter \u001b[38;5;241m=\u001b[39m negate, args, kwargs\n\u001b[0;32m   1493\u001b[0m \u001b[38;5;28;01melse\u001b[39;00m:\n\u001b[1;32m-> 1494\u001b[0m     \u001b[43mclone\u001b[49m\u001b[38;5;241;43m.\u001b[39;49m\u001b[43m_filter_or_exclude_inplace\u001b[49m\u001b[43m(\u001b[49m\u001b[43mnegate\u001b[49m\u001b[43m,\u001b[49m\u001b[43m \u001b[49m\u001b[43margs\u001b[49m\u001b[43m,\u001b[49m\u001b[43m \u001b[49m\u001b[43mkwargs\u001b[49m\u001b[43m)\u001b[49m\n\u001b[0;32m   1495\u001b[0m \u001b[38;5;28;01mreturn\u001b[39;00m clone\n",
      "File \u001b[1;32md:\\Project Y\\Portfolio management\\AW-portolio-management\\Lib\\site-packages\\django\\db\\models\\query.py:1501\u001b[0m, in \u001b[0;36mQuerySet._filter_or_exclude_inplace\u001b[1;34m(self, negate, args, kwargs)\u001b[0m\n\u001b[0;32m   1499\u001b[0m     \u001b[38;5;28mself\u001b[39m\u001b[38;5;241m.\u001b[39m_query\u001b[38;5;241m.\u001b[39madd_q(\u001b[38;5;241m~\u001b[39mQ(\u001b[38;5;241m*\u001b[39margs, \u001b[38;5;241m*\u001b[39m\u001b[38;5;241m*\u001b[39mkwargs))\n\u001b[0;32m   1500\u001b[0m \u001b[38;5;28;01melse\u001b[39;00m:\n\u001b[1;32m-> 1501\u001b[0m     \u001b[38;5;28;43mself\u001b[39;49m\u001b[38;5;241;43m.\u001b[39;49m\u001b[43m_query\u001b[49m\u001b[38;5;241;43m.\u001b[39;49m\u001b[43madd_q\u001b[49m\u001b[43m(\u001b[49m\u001b[43mQ\u001b[49m\u001b[43m(\u001b[49m\u001b[38;5;241;43m*\u001b[39;49m\u001b[43margs\u001b[49m\u001b[43m,\u001b[49m\u001b[43m \u001b[49m\u001b[38;5;241;43m*\u001b[39;49m\u001b[38;5;241;43m*\u001b[39;49m\u001b[43mkwargs\u001b[49m\u001b[43m)\u001b[49m\u001b[43m)\u001b[49m\n",
      "File \u001b[1;32md:\\Project Y\\Portfolio management\\AW-portolio-management\\Lib\\site-packages\\django\\db\\models\\sql\\query.py:1602\u001b[0m, in \u001b[0;36mQuery.add_q\u001b[1;34m(self, q_object)\u001b[0m\n\u001b[0;32m   1593\u001b[0m \u001b[38;5;66;03m# For join promotion this case is doing an AND for the added q_object\u001b[39;00m\n\u001b[0;32m   1594\u001b[0m \u001b[38;5;66;03m# and existing conditions. So, any existing inner join forces the join\u001b[39;00m\n\u001b[0;32m   1595\u001b[0m \u001b[38;5;66;03m# type to remain inner. Existing outer joins can however be demoted.\u001b[39;00m\n\u001b[0;32m   1596\u001b[0m \u001b[38;5;66;03m# (Consider case where rel_a is LOUTER and rel_a__col=1 is added - if\u001b[39;00m\n\u001b[0;32m   1597\u001b[0m \u001b[38;5;66;03m# rel_a doesn't produce any rows, then the whole condition must fail.\u001b[39;00m\n\u001b[0;32m   1598\u001b[0m \u001b[38;5;66;03m# So, demotion is OK.\u001b[39;00m\n\u001b[0;32m   1599\u001b[0m existing_inner \u001b[38;5;241m=\u001b[39m {\n\u001b[0;32m   1600\u001b[0m     a \u001b[38;5;28;01mfor\u001b[39;00m a \u001b[38;5;129;01min\u001b[39;00m \u001b[38;5;28mself\u001b[39m\u001b[38;5;241m.\u001b[39malias_map \u001b[38;5;28;01mif\u001b[39;00m \u001b[38;5;28mself\u001b[39m\u001b[38;5;241m.\u001b[39malias_map[a]\u001b[38;5;241m.\u001b[39mjoin_type \u001b[38;5;241m==\u001b[39m INNER\n\u001b[0;32m   1601\u001b[0m }\n\u001b[1;32m-> 1602\u001b[0m clause, _ \u001b[38;5;241m=\u001b[39m \u001b[38;5;28;43mself\u001b[39;49m\u001b[38;5;241;43m.\u001b[39;49m\u001b[43m_add_q\u001b[49m\u001b[43m(\u001b[49m\u001b[43mq_object\u001b[49m\u001b[43m,\u001b[49m\u001b[43m \u001b[49m\u001b[38;5;28;43mself\u001b[39;49m\u001b[38;5;241;43m.\u001b[39;49m\u001b[43mused_aliases\u001b[49m\u001b[43m)\u001b[49m\n\u001b[0;32m   1603\u001b[0m \u001b[38;5;28;01mif\u001b[39;00m clause:\n\u001b[0;32m   1604\u001b[0m     \u001b[38;5;28mself\u001b[39m\u001b[38;5;241m.\u001b[39mwhere\u001b[38;5;241m.\u001b[39madd(clause, AND)\n",
      "File \u001b[1;32md:\\Project Y\\Portfolio management\\AW-portolio-management\\Lib\\site-packages\\django\\db\\models\\sql\\query.py:1634\u001b[0m, in \u001b[0;36mQuery._add_q\u001b[1;34m(self, q_object, used_aliases, branch_negated, current_negated, allow_joins, split_subq, check_filterable, summarize, update_join_types)\u001b[0m\n\u001b[0;32m   1630\u001b[0m joinpromoter \u001b[38;5;241m=\u001b[39m JoinPromoter(\n\u001b[0;32m   1631\u001b[0m     q_object\u001b[38;5;241m.\u001b[39mconnector, \u001b[38;5;28mlen\u001b[39m(q_object\u001b[38;5;241m.\u001b[39mchildren), current_negated\n\u001b[0;32m   1632\u001b[0m )\n\u001b[0;32m   1633\u001b[0m \u001b[38;5;28;01mfor\u001b[39;00m child \u001b[38;5;129;01min\u001b[39;00m q_object\u001b[38;5;241m.\u001b[39mchildren:\n\u001b[1;32m-> 1634\u001b[0m     child_clause, needed_inner \u001b[38;5;241m=\u001b[39m \u001b[38;5;28;43mself\u001b[39;49m\u001b[38;5;241;43m.\u001b[39;49m\u001b[43mbuild_filter\u001b[49m\u001b[43m(\u001b[49m\n\u001b[0;32m   1635\u001b[0m \u001b[43m        \u001b[49m\u001b[43mchild\u001b[49m\u001b[43m,\u001b[49m\n\u001b[0;32m   1636\u001b[0m \u001b[43m        \u001b[49m\u001b[43mcan_reuse\u001b[49m\u001b[38;5;241;43m=\u001b[39;49m\u001b[43mused_aliases\u001b[49m\u001b[43m,\u001b[49m\n\u001b[0;32m   1637\u001b[0m \u001b[43m        \u001b[49m\u001b[43mbranch_negated\u001b[49m\u001b[38;5;241;43m=\u001b[39;49m\u001b[43mbranch_negated\u001b[49m\u001b[43m,\u001b[49m\n\u001b[0;32m   1638\u001b[0m \u001b[43m        \u001b[49m\u001b[43mcurrent_negated\u001b[49m\u001b[38;5;241;43m=\u001b[39;49m\u001b[43mcurrent_negated\u001b[49m\u001b[43m,\u001b[49m\n\u001b[0;32m   1639\u001b[0m \u001b[43m        \u001b[49m\u001b[43mallow_joins\u001b[49m\u001b[38;5;241;43m=\u001b[39;49m\u001b[43mallow_joins\u001b[49m\u001b[43m,\u001b[49m\n\u001b[0;32m   1640\u001b[0m \u001b[43m        \u001b[49m\u001b[43msplit_subq\u001b[49m\u001b[38;5;241;43m=\u001b[39;49m\u001b[43msplit_subq\u001b[49m\u001b[43m,\u001b[49m\n\u001b[0;32m   1641\u001b[0m \u001b[43m        \u001b[49m\u001b[43mcheck_filterable\u001b[49m\u001b[38;5;241;43m=\u001b[39;49m\u001b[43mcheck_filterable\u001b[49m\u001b[43m,\u001b[49m\n\u001b[0;32m   1642\u001b[0m \u001b[43m        \u001b[49m\u001b[43msummarize\u001b[49m\u001b[38;5;241;43m=\u001b[39;49m\u001b[43msummarize\u001b[49m\u001b[43m,\u001b[49m\n\u001b[0;32m   1643\u001b[0m \u001b[43m        \u001b[49m\u001b[43mupdate_join_types\u001b[49m\u001b[38;5;241;43m=\u001b[39;49m\u001b[43mupdate_join_types\u001b[49m\u001b[43m,\u001b[49m\n\u001b[0;32m   1644\u001b[0m \u001b[43m    \u001b[49m\u001b[43m)\u001b[49m\n\u001b[0;32m   1645\u001b[0m     joinpromoter\u001b[38;5;241m.\u001b[39madd_votes(needed_inner)\n\u001b[0;32m   1646\u001b[0m     \u001b[38;5;28;01mif\u001b[39;00m child_clause:\n",
      "File \u001b[1;32md:\\Project Y\\Portfolio management\\AW-portolio-management\\Lib\\site-packages\\django\\db\\models\\sql\\query.py:1548\u001b[0m, in \u001b[0;36mQuery.build_filter\u001b[1;34m(self, filter_expr, branch_negated, current_negated, can_reuse, allow_joins, split_subq, check_filterable, summarize, update_join_types)\u001b[0m\n\u001b[0;32m   1545\u001b[0m \u001b[38;5;28;01melse\u001b[39;00m:\n\u001b[0;32m   1546\u001b[0m     col \u001b[38;5;241m=\u001b[39m \u001b[38;5;28mself\u001b[39m\u001b[38;5;241m.\u001b[39m_get_col(targets[\u001b[38;5;241m0\u001b[39m], join_info\u001b[38;5;241m.\u001b[39mfinal_field, alias)\n\u001b[1;32m-> 1548\u001b[0m condition \u001b[38;5;241m=\u001b[39m \u001b[38;5;28;43mself\u001b[39;49m\u001b[38;5;241;43m.\u001b[39;49m\u001b[43mbuild_lookup\u001b[49m\u001b[43m(\u001b[49m\u001b[43mlookups\u001b[49m\u001b[43m,\u001b[49m\u001b[43m \u001b[49m\u001b[43mcol\u001b[49m\u001b[43m,\u001b[49m\u001b[43m \u001b[49m\u001b[43mvalue\u001b[49m\u001b[43m)\u001b[49m\n\u001b[0;32m   1549\u001b[0m lookup_type \u001b[38;5;241m=\u001b[39m condition\u001b[38;5;241m.\u001b[39mlookup_name\n\u001b[0;32m   1550\u001b[0m clause \u001b[38;5;241m=\u001b[39m WhereNode([condition], connector\u001b[38;5;241m=\u001b[39mAND)\n",
      "File \u001b[1;32md:\\Project Y\\Portfolio management\\AW-portolio-management\\Lib\\site-packages\\django\\db\\models\\sql\\query.py:1378\u001b[0m, in \u001b[0;36mQuery.build_lookup\u001b[1;34m(self, lookups, lhs, rhs)\u001b[0m\n\u001b[0;32m   1375\u001b[0m     \u001b[38;5;28;01mif\u001b[39;00m \u001b[38;5;129;01mnot\u001b[39;00m lookup_class:\n\u001b[0;32m   1376\u001b[0m         \u001b[38;5;28;01mreturn\u001b[39;00m\n\u001b[1;32m-> 1378\u001b[0m lookup \u001b[38;5;241m=\u001b[39m \u001b[43mlookup_class\u001b[49m\u001b[43m(\u001b[49m\u001b[43mlhs\u001b[49m\u001b[43m,\u001b[49m\u001b[43m \u001b[49m\u001b[43mrhs\u001b[49m\u001b[43m)\u001b[49m\n\u001b[0;32m   1379\u001b[0m \u001b[38;5;66;03m# Interpret '__exact=None' as the sql 'is NULL'; otherwise, reject all\u001b[39;00m\n\u001b[0;32m   1380\u001b[0m \u001b[38;5;66;03m# uses of None as a query value unless the lookup supports it.\u001b[39;00m\n\u001b[0;32m   1381\u001b[0m \u001b[38;5;28;01mif\u001b[39;00m lookup\u001b[38;5;241m.\u001b[39mrhs \u001b[38;5;129;01mis\u001b[39;00m \u001b[38;5;28;01mNone\u001b[39;00m \u001b[38;5;129;01mand\u001b[39;00m \u001b[38;5;129;01mnot\u001b[39;00m lookup\u001b[38;5;241m.\u001b[39mcan_use_none_as_rhs:\n",
      "File \u001b[1;32md:\\Project Y\\Portfolio management\\AW-portolio-management\\Lib\\site-packages\\django\\db\\models\\lookups.py:30\u001b[0m, in \u001b[0;36mLookup.__init__\u001b[1;34m(self, lhs, rhs)\u001b[0m\n\u001b[0;32m     28\u001b[0m \u001b[38;5;28;01mdef\u001b[39;00m \u001b[38;5;21m__init__\u001b[39m(\u001b[38;5;28mself\u001b[39m, lhs, rhs):\n\u001b[0;32m     29\u001b[0m     \u001b[38;5;28mself\u001b[39m\u001b[38;5;241m.\u001b[39mlhs, \u001b[38;5;28mself\u001b[39m\u001b[38;5;241m.\u001b[39mrhs \u001b[38;5;241m=\u001b[39m lhs, rhs\n\u001b[1;32m---> 30\u001b[0m     \u001b[38;5;28mself\u001b[39m\u001b[38;5;241m.\u001b[39mrhs \u001b[38;5;241m=\u001b[39m \u001b[38;5;28;43mself\u001b[39;49m\u001b[38;5;241;43m.\u001b[39;49m\u001b[43mget_prep_lookup\u001b[49m\u001b[43m(\u001b[49m\u001b[43m)\u001b[49m\n\u001b[0;32m     31\u001b[0m     \u001b[38;5;28mself\u001b[39m\u001b[38;5;241m.\u001b[39mlhs \u001b[38;5;241m=\u001b[39m \u001b[38;5;28mself\u001b[39m\u001b[38;5;241m.\u001b[39mget_prep_lhs()\n\u001b[0;32m     32\u001b[0m     \u001b[38;5;28;01mif\u001b[39;00m \u001b[38;5;28mhasattr\u001b[39m(\u001b[38;5;28mself\u001b[39m\u001b[38;5;241m.\u001b[39mlhs, \u001b[38;5;124m\"\u001b[39m\u001b[38;5;124mget_bilateral_transforms\u001b[39m\u001b[38;5;124m\"\u001b[39m):\n",
      "File \u001b[1;32md:\\Project Y\\Portfolio management\\AW-portolio-management\\Lib\\site-packages\\django\\db\\models\\lookups.py:482\u001b[0m, in \u001b[0;36mIn.get_prep_lookup\u001b[1;34m(self)\u001b[0m\n\u001b[0;32m    480\u001b[0m         \u001b[38;5;28mself\u001b[39m\u001b[38;5;241m.\u001b[39mrhs\u001b[38;5;241m.\u001b[39mclear_select_clause()\n\u001b[0;32m    481\u001b[0m         \u001b[38;5;28mself\u001b[39m\u001b[38;5;241m.\u001b[39mrhs\u001b[38;5;241m.\u001b[39madd_fields([\u001b[38;5;124m\"\u001b[39m\u001b[38;5;124mpk\u001b[39m\u001b[38;5;124m\"\u001b[39m])\n\u001b[1;32m--> 482\u001b[0m \u001b[38;5;28;01mreturn\u001b[39;00m \u001b[38;5;28;43msuper\u001b[39;49m\u001b[43m(\u001b[49m\u001b[43m)\u001b[49m\u001b[38;5;241;43m.\u001b[39;49m\u001b[43mget_prep_lookup\u001b[49m\u001b[43m(\u001b[49m\u001b[43m)\u001b[49m\n",
      "File \u001b[1;32md:\\Project Y\\Portfolio management\\AW-portolio-management\\Lib\\site-packages\\django\\db\\models\\lookups.py:291\u001b[0m, in \u001b[0;36mFieldGetDbPrepValueIterableMixin.get_prep_lookup\u001b[1;34m(self)\u001b[0m\n\u001b[0;32m    289\u001b[0m     \u001b[38;5;28;01mreturn\u001b[39;00m \u001b[38;5;28mself\u001b[39m\u001b[38;5;241m.\u001b[39mrhs\n\u001b[0;32m    290\u001b[0m prepared_values \u001b[38;5;241m=\u001b[39m []\n\u001b[1;32m--> 291\u001b[0m \u001b[43m\u001b[49m\u001b[38;5;28;43;01mfor\u001b[39;49;00m\u001b[43m \u001b[49m\u001b[43mrhs_value\u001b[49m\u001b[43m \u001b[49m\u001b[38;5;129;43;01min\u001b[39;49;00m\u001b[43m \u001b[49m\u001b[38;5;28;43mself\u001b[39;49m\u001b[38;5;241;43m.\u001b[39;49m\u001b[43mrhs\u001b[49m\u001b[43m:\u001b[49m\n\u001b[0;32m    292\u001b[0m \u001b[43m    \u001b[49m\u001b[38;5;28;43;01mif\u001b[39;49;00m\u001b[43m \u001b[49m\u001b[38;5;28;43mhasattr\u001b[39;49m\u001b[43m(\u001b[49m\u001b[43mrhs_value\u001b[49m\u001b[43m,\u001b[49m\u001b[43m \u001b[49m\u001b[38;5;124;43m\"\u001b[39;49m\u001b[38;5;124;43mresolve_expression\u001b[39;49m\u001b[38;5;124;43m\"\u001b[39;49m\u001b[43m)\u001b[49m\u001b[43m:\u001b[49m\n\u001b[0;32m    293\u001b[0m \u001b[43m        \u001b[49m\u001b[38;5;66;43;03m# An expression will be handled by the database but can coexist\u001b[39;49;00m\n\u001b[0;32m    294\u001b[0m \u001b[43m        \u001b[49m\u001b[38;5;66;43;03m# alongside real values.\u001b[39;49;00m\n\u001b[0;32m    295\u001b[0m \u001b[43m        \u001b[49m\u001b[38;5;28;43;01mpass\u001b[39;49;00m\n",
      "\u001b[1;31mTypeError\u001b[0m: 'NoneType' object is not iterable"
     ]
    }
   ],
   "source": [
    "from pyxirr import xirr\n",
    "\n",
    "\n",
    "def Irr(date, currency, asset_id=None, broker_id_list=None, start_date=''):\n",
    "    \n",
    "    # Calculate portfolio value\n",
    "    portfolio_value = calculate_portfolio_value(date, currency, asset_id, broker_id_list)\n",
    "\n",
    "    if portfolio_value < 0:\n",
    "        return 'N/R'\n",
    "    \n",
    "    cash_flows = []\n",
    "    transaction_dates = []\n",
    "\n",
    "    # Collect cash flows and transaction dates for the portfolio\n",
    "    transactions = Transactions.objects.filter(date__lte=date, security_id=asset_id)\n",
    "    \n",
    "    # if asset_id:\n",
    "    #     transactions = transactions.filter(security_id=asset_id)\n",
    "\n",
    "    if broker_id_list:\n",
    "        transactions = transactions.filter(broker_id__in=broker_id_list)\n",
    "\n",
    "    if start_date:\n",
    "        transactions = transactions.filter(date__gte=start_date)\n",
    "\n",
    "    # print(f\"utils.py. line 123. Transactions: {transactions}\")\n",
    "\n",
    "    # Calculate cash flows and transaction dates\n",
    "    for transaction in transactions:\n",
    "        print(f\"utils.py. line 127. Transaction details: {transaction.quantity}\")\n",
    "        fx_rate = FX.get_rate(transaction.currency.upper(), currency, transaction.date)['FX']\n",
    "\n",
    "        if transaction.type == 'Cash in' or transaction.type == 'Cash out':\n",
    "            cash_flow = -transaction.cash_flow\n",
    "        else:\n",
    "            cash_flow = transaction.cash_flow or (-transaction.quantity * transaction.price + (transaction.commission or 0))\n",
    "        \n",
    "        cash_flows.append(round(cash_flow * fx_rate, 2))\n",
    "        transaction_dates.append(transaction.date)\n",
    "\n",
    "    # Calculate start portfolio value if provided\n",
    "    if start_date:\n",
    "        start_portfolio_value = calculate_portfolio_value(start_date, currency, asset_id, broker_id_list)\n",
    "        cash_flows.insert(0, -start_portfolio_value)\n",
    "        transaction_dates.insert(0, start_date)\n",
    "\n",
    "    # Calculate portfolio value\n",
    "    portfolio_value = calculate_portfolio_value(date, currency, asset_id, broker_id_list)\n",
    "\n",
    "    # Append end portfolio value to cash flows and dates\n",
    "    cash_flows.append(portfolio_value)\n",
    "    transaction_dates.append(date)\n",
    "\n",
    "    print(f\"utils. line 146. Cash flows: {cash_flows}, Transaction dates: {transaction_dates}\")\n",
    "\n",
    "    try:\n",
    "        return round(xirr(transaction_dates, cash_flows), 4)\n",
    "    except:\n",
    "        return 'N/A'\n",
    "\n",
    "# def calculate_portfolio_value(date, currency=None, asset_id=None, broker_id_list=None):\n",
    "#     portfolio_value = 0\n",
    "\n",
    "#     if asset_id is None:\n",
    "#         portfolio_value = NAV_at_date(broker_id_list, date, currency, [])['Total NAV']\n",
    "#     else:\n",
    "#         asset = Assets.objects.get(id=asset_id)\n",
    "#         # print(f\"utils.py. line 165. asset current price: {asset.current_price(date)}\")\n",
    "#         # print(f\"utils.py. line 167. Asset data: {asset.current_price(date).price}, {asset.position(date, broker_id_list)}\")\n",
    "#         portfolio_value = round(asset.price_at_date(date, currency).price * asset.position(date, broker_id_list), 2)\n",
    "\n",
    "#     return portfolio_value\n",
    "\n",
    "security_id = 4\n",
    "security = Assets.objects.get(id=security_id)\n",
    "print('Price:', security.price_at_date(effective_current_date).price)\n",
    "print('Value:', calculate_portfolio_value(effective_current_date, security.currency, security_id))\n",
    "\n",
    "Irr(effective_current_date, security.currency, security_id)"
   ]
  },
  {
   "cell_type": "code",
   "execution_count": null,
   "metadata": {},
   "outputs": [],
   "source": [
    "security_id = 7\n",
    "security = Assets.objects.get(id=security_id)\n",
    "security.price_at_date(effective_current_date).price\n",
    "\n",
    "quote = security.prices.filter(date__lte=effective_current_date).order_by('-date').first()\n",
    "print(currency_target)\n",
    "if currency_target is not None:\n",
    "    quote.price = quote.price * FX.get_rate(security.currency, currency_target, effective_current_date)['FX']\n",
    "quote"
   ]
  },
  {
   "cell_type": "code",
   "execution_count": 24,
   "metadata": {},
   "outputs": [
    {
     "name": "stdout",
     "output_type": "stream",
     "text": [
      "<QuerySet []>\n",
      "0\n",
      "-8.88178419700125E-16\n"
     ]
    }
   ],
   "source": [
    "investor = CustomUser.objects.get(id=2)\n",
    "\n",
    "from common.models import update_FX_from_Yahoo\n",
    "from utils import update_fx_database\n",
    "from django.db.models import Sum, F, FloatField, Case, When, Value\n",
    "from constants import TOLERANCE\n",
    "\n",
    "# print(investor.id)\n",
    "\n",
    "# Get the specific investor\n",
    "investor_instance = CustomUser.objects.get(id=investor.id)\n",
    "\n",
    "t = Transactions.objects.filter(investor_id=investor.id).exclude(type='Cash in')\n",
    "# t.delete()\n",
    "\n",
    "a = investor.assets.all()\n",
    "# for a in a:\n",
    "#     print(a.name, a.position('2022-1-1'))\n",
    "\n",
    "portfolio_open = Assets.objects.filter(\n",
    "        investor=investor,\n",
    "        transactions__date__lte=effective_current_date,\n",
    "    ).prefetch_related(\n",
    "        'transactions'\n",
    "    ).annotate(\n",
    "        total_quantity=Sum('transactions__quantity')\n",
    "    ).annotate(\n",
    "        total_quantity_adjusted=Case(\n",
    "        When(total_quantity__lt=0, then=Value(0, output_field=FloatField())),\n",
    "        default=F('total_quantity'),\n",
    "        output_field=FloatField()\n",
    "    )\n",
    ").exclude(total_quantity_adjusted=0)\n",
    "\n",
    "print(portfolio_open)\n",
    "\n",
    "a = Assets.objects.filter(\n",
    "        investor=investor,\n",
    ").annotate(\n",
    "    total_quantity=Sum('transactions__quantity')\n",
    ").annotate(\n",
    "        total_quantity_adj=Case(\n",
    "            When(total_quantity__lt=TOLERANCE, then=Value(0, output_field=FloatField())),\n",
    "            default=F('total_quantity'),\n",
    "            output_field=FloatField()\n",
    "        )\n",
    "    )\n",
    "\n",
    "portfolio_open = Assets.objects.filter(\n",
    "    id=8,\n",
    "    investor=investor,\n",
    ").prefetch_related(\n",
    "    'transactions'\n",
    ").annotate(\n",
    "    total_quantity=Sum('transactions__quantity')\n",
    ").annotate(\n",
    "    total_quantity_adj=Case(\n",
    "        When(total_quantity__lt=TOLERANCE, then=Value(0, output_field=FloatField())),\n",
    "        default=F('total_quantity'),\n",
    "        output_field=FloatField()\n",
    "    )\n",
    ")\n",
    "\n",
    "# If you need to get the specific object\n",
    "asset = portfolio_open.first() \n",
    "asset\n",
    "print(Assets.objects.get(id=8).position('2023-1-1'))\n",
    "print(Assets.objects.get(id=8).transactions.aggregate(total=Sum('quantity'))['total'])"
   ]
  },
  {
   "cell_type": "code",
   "execution_count": null,
   "metadata": {},
   "outputs": [],
   "source": [
    "update_FX_from_Yahoo('PLN', 'USD', date(2011, 1, 10), 5)"
   ]
  }
 ],
 "metadata": {
  "kernelspec": {
   "display_name": "Python 3",
   "language": "python",
   "name": "python3"
  },
  "language_info": {
   "codemirror_mode": {
    "name": "ipython",
    "version": 3
   },
   "file_extension": ".py",
   "mimetype": "text/x-python",
   "name": "python",
   "nbconvert_exporter": "python",
   "pygments_lexer": "ipython3",
   "version": "3.12.0"
  }
 },
 "nbformat": 4,
 "nbformat_minor": 2
}
