{
 "cells": [
  {
   "cell_type": "code",
   "execution_count": 2,
   "metadata": {},
   "outputs": [],
   "source": [
    "import os\n",
    "import django\n",
    "\n",
    "os.environ.setdefault(\"DJANGO_SETTINGS_MODULE\", \"portfolio_management.settings\")\n",
    "os.environ[\"DJANGO_ALLOW_ASYNC_UNSAFE\"] = \"true\"\n",
    "\n",
    "django.setup()\n",
    "\n",
    "from common.models import Brokers, Prices, Transactions, FX, Assets\n",
    "from users.models import CustomUser\n",
    "from utils import NAV_at_date, Irr, chart_dates, chart_labels, chart_colour, portfolio_at_date, calculate_security_nav, currency_format, calculate_portfolio_value\n",
    "from datetime import date\n",
    "from django.db.models import F, Sum"
   ]
  },
  {
   "cell_type": "code",
   "execution_count": 3,
   "metadata": {},
   "outputs": [
    {
     "data": {
      "text/plain": [
       "<CustomUser: Yaroslav>"
      ]
     },
     "execution_count": 3,
     "metadata": {},
     "output_type": "execute_result"
    }
   ],
   "source": [
    "selected_brokers = broker_ids = [2]\n",
    "effective_current_date = date.today()\n",
    "currency_target = 'USD'\n",
    "number_of_digits = 2\n",
    "\n",
    "CustomUser.objects.get(id=2)"
   ]
  },
  {
   "cell_type": "code",
   "execution_count": 4,
   "metadata": {},
   "outputs": [
    {
     "name": "stdout",
     "output_type": "stream",
     "text": [
      "USD\n"
     ]
    },
    {
     "data": {
      "text/plain": [
       "<Prices: Long/short is at 24.000000000000 on 2020-12-01>"
      ]
     },
     "execution_count": 4,
     "metadata": {},
     "output_type": "execute_result"
    }
   ],
   "source": [
    "security_id = 7\n",
    "security = Assets.objects.get(id=security_id)\n",
    "security.price_at_date(effective_current_date).price\n",
    "\n",
    "quote = security.prices.filter(date__lte=effective_current_date).order_by('-date').first()\n",
    "print(currency_target)\n",
    "if currency_target is not None:\n",
    "    quote.price = quote.price * FX.get_rate(security.currency, currency_target, effective_current_date)['FX']\n",
    "quote"
   ]
  },
  {
   "cell_type": "code",
   "execution_count": 5,
   "metadata": {},
   "outputs": [
    {
     "name": "stdout",
     "output_type": "stream",
     "text": [
      "Found 0 duplicate entries.\n",
      "\n",
      "Duplicates removed.\n"
     ]
    }
   ],
   "source": [
    "from django.db.models import Count\n",
    "\n",
    "duplicates = (\n",
    "            Prices.objects.values('date', 'security', 'price')\n",
    "            .annotate(count_id=Count('id'))\n",
    "            .filter(count_id__gt=1)\n",
    "        )\n",
    "\n",
    "total_duplicates = len(duplicates)\n",
    "print((f\"Found {total_duplicates} duplicate entries.\"))\n",
    "\n",
    "for i, duplicate in enumerate(duplicates, start=1):\n",
    "            # Keep one entry and delete the rest\n",
    "            entries = Prices.objects.filter(\n",
    "                date=duplicate['date'],\n",
    "                security=duplicate['security'],\n",
    "                price=duplicate['price']\n",
    "            )\n",
    "            entries_to_keep = entries.first()\n",
    "            entries.exclude(id=entries_to_keep.id).delete()\n",
    "\n",
    "            # Print status update\n",
    "            print(f\"Duplicates are being removed: {i} out of {total_duplicates}\\r\", end='', flush=True)\n",
    "            \n",
    "print(\"\\nDuplicates removed.\")\n"
   ]
  },
  {
   "cell_type": "code",
   "execution_count": 30,
   "metadata": {},
   "outputs": [
    {
     "name": "stdout",
     "output_type": "stream",
     "text": [
      "Old Price: 0.936630, New Price: 0.9366299527568694238659180266\n",
      "Old Asset Value: 7983.27, New Asset Value: 7983.27\n",
      "Old NAV: 29444.380402671861, Target NAV: 29444.38\n"
     ]
    },
    {
     "data": {
      "text/plain": [
       "{'old_price': Decimal('0.936630'),\n",
       " 'new_price': Decimal('0.9366299527568694238659180266'),\n",
       " 'old_asset_value': Decimal('7983.27'),\n",
       " 'new_asset_value': Decimal('7983.27'),\n",
       " 'old_nav': Decimal('29444.380402671861'),\n",
       " 'target_nav': Decimal('29444.38'),\n",
       " 'status': 'Price update canceled.'}"
      ]
     },
     "execution_count": 30,
     "metadata": {},
     "output_type": "execute_result"
    }
   ],
   "source": [
    "import datetime\n",
    "from decimal import Decimal\n",
    "\n",
    "\n",
    "def end_of_year_price_correction(user, year, broker_name, target_nav, asset_name):\n",
    "    \n",
    "    target_nav = round(Decimal(target_nav), 2)\n",
    "    \n",
    "    # Get the broker\n",
    "    try:\n",
    "        broker = Brokers.objects.get(name=broker_name)\n",
    "    except Brokers.DoesNotExist:\n",
    "        return {\"error\": f\"Broker {broker_name} does not exist.\"}\n",
    "\n",
    "    # Get the asset\n",
    "    try:\n",
    "        asset = Assets.objects.get(name=asset_name)\n",
    "    except Assets.DoesNotExist:\n",
    "        return {\"error\": f\"Asset {asset_name} does not exist.\"}\n",
    "\n",
    "    # Calculate end of year date\n",
    "    end_of_year_date = datetime.date(year, 12, 31)\n",
    "\n",
    "    # Fetch NAV at the end of the year\n",
    "    # nav_at_end_of_year = get_nav_at_date(broker, end_of_year_date)\n",
    "    nav_at_end_of_year = NAV_at_date(user.id, [broker.id], end_of_year_date, asset.currency, [])['Total NAV']\n",
    "    if nav_at_end_of_year is None:\n",
    "        return {\"error\": f\"No NAV found for broker {broker_name} at the end of {year}.\"}\n",
    "\n",
    "    # Fetch asset price and position at the end of the year\n",
    "    price_at_end_of_year = asset.price_at_date(end_of_year_date)\n",
    "    if not price_at_end_of_year:\n",
    "        return {\"error\": f\"No price found for asset {asset_name} at the end of {year}.\"}\n",
    "\n",
    "    position_at_end_of_year = asset.position(end_of_year_date, [broker.id])\n",
    "\n",
    "    # Calculate new price\n",
    "    old_price = price_at_end_of_year.price\n",
    "    new_price = old_price + ((target_nav - nav_at_end_of_year) / position_at_end_of_year)\n",
    "\n",
    "    # Display information\n",
    "    old_asset_value = round(Decimal(old_price * position_at_end_of_year), 2)\n",
    "    new_asset_value = round(Decimal(new_price * position_at_end_of_year), 2)\n",
    "\n",
    "    result = {\n",
    "        \"old_price\": old_price,\n",
    "        \"new_price\": new_price,\n",
    "        \"old_asset_value\": old_asset_value,\n",
    "        \"new_asset_value\": new_asset_value,\n",
    "        \"old_nav\": nav_at_end_of_year,\n",
    "        \"target_nav\": target_nav\n",
    "    }\n",
    "\n",
    "    print(f\"Old Price: {result['old_price']}, New Price: {result['new_price']}\")\n",
    "    print(f\"Old Asset Value: {result['old_asset_value']}, New Asset Value: {result['new_asset_value']}\")\n",
    "    print(f\"Old NAV: {result['old_nav']}, Target NAV: {result['target_nav']}\")\n",
    "\n",
    "    # Ask for confirmation\n",
    "    confirm = input(\"Do you want to update the price? (yes/no): \")\n",
    "\n",
    "    if confirm.lower() == 'yes':\n",
    "        # Update the price\n",
    "        price_instance, created = Prices.objects.get_or_create(\n",
    "            security=asset, date=end_of_year_date,\n",
    "            defaults={'price': new_price}\n",
    "        )\n",
    "        if not created:\n",
    "            price_instance.price = new_price\n",
    "            price_instance.save()\n",
    "\n",
    "        result[\"status\"] = \"Price updated successfully.\"\n",
    "        print(\"New price is:\", price_instance.price)\n",
    "    else:\n",
    "        result[\"status\"] = \"Price update canceled.\"\n",
    "\n",
    "    return result\n",
    "\n",
    "user = CustomUser.objects.filter(username='Yaroslav').first()\n",
    "year = 2013\n",
    "broker_name = 'UBS Pension'\n",
    "target_nav = 29444.38\n",
    "asset_name = 'Emerging Markets Equity Fund'\n",
    "\n",
    "end_of_year_price_correction(user, year, broker_name, target_nav, asset_name)"
   ]
  },
  {
   "cell_type": "code",
   "execution_count": 35,
   "metadata": {},
   "outputs": [
    {
     "name": "stdout",
     "output_type": "stream",
     "text": [
      "['UBS Europe (ex-UK) Equity Tracker', 'UBS Pacific (exJapan) Equity Tracker', 'UBS UK Equity Tracker', 'Global Listed Property Tracker Fund', 'North America Equity Tracker Fund', 'World (ex-UK) Equity Tracker Fund', 'Growth Fund']\n",
      "Updated price for asset UBS Europe (ex-UK) Equity Tracker on date 2021-12-31\n",
      "Updated price for asset UBS Pacific (exJapan) Equity Tracker on date 2021-12-31\n",
      "Updated price for asset UBS UK Equity Tracker on date 2021-12-31\n",
      "Updated price for asset Global Listed Property Tracker Fund on date 2021-12-31\n",
      "Updated price for asset North America Equity Tracker Fund on date 2021-12-31\n",
      "Updated price for asset World (ex-UK) Equity Tracker Fund on date 2021-12-31\n",
      "Updated price for asset Growth Fund on date 2021-12-31\n",
      "Created price for asset UBS Europe (ex-UK) Equity Tracker on date 2022-12-31\n",
      "Created price for asset UBS Pacific (exJapan) Equity Tracker on date 2022-12-31\n",
      "Created price for asset UBS UK Equity Tracker on date 2022-12-31\n",
      "Created price for asset Global Listed Property Tracker Fund on date 2022-12-31\n",
      "Created price for asset North America Equity Tracker Fund on date 2022-12-31\n",
      "Created price for asset World (ex-UK) Equity Tracker Fund on date 2022-12-31\n",
      "Created price for asset Growth Fund on date 2022-12-31\n",
      "Created price for asset UBS Europe (ex-UK) Equity Tracker on date 2023-12-31\n",
      "Created price for asset UBS Pacific (exJapan) Equity Tracker on date 2023-12-31\n",
      "Created price for asset UBS UK Equity Tracker on date 2023-12-31\n",
      "Created price for asset Global Listed Property Tracker Fund on date 2023-12-31\n",
      "Created price for asset North America Equity Tracker Fund on date 2023-12-31\n",
      "Created price for asset World (ex-UK) Equity Tracker Fund on date 2023-12-31\n",
      "Created price for asset Growth Fund on date 2023-12-31\n",
      "Created price for asset UBS Europe (ex-UK) Equity Tracker on date 2024-06-30\n",
      "Created price for asset UBS Pacific (exJapan) Equity Tracker on date 2024-06-30\n",
      "Created price for asset UBS UK Equity Tracker on date 2024-06-30\n",
      "Created price for asset Global Listed Property Tracker Fund on date 2024-06-30\n",
      "Created price for asset North America Equity Tracker Fund on date 2024-06-30\n",
      "Created price for asset World (ex-UK) Equity Tracker Fund on date 2024-06-30\n",
      "Created price for asset Growth Fund on date 2024-06-30\n"
     ]
    }
   ],
   "source": [
    "from django.db import IntegrityError\n",
    "import pandas as pd\n",
    "\n",
    "def import_asset_prices_from_csv(file_path, investor_id):\n",
    "    # Read the CSV file\n",
    "    df = pd.read_csv(file_path)\n",
    "\n",
    "    # Convert the 'date' column to datetime format\n",
    "    df['date'] = pd.to_datetime(df['date'], format='%d/%m/%Y')\n",
    "\n",
    "    # Get column names (asset names) excluding 'date'\n",
    "    asset_names = [col for col in df.columns if col != 'date']\n",
    "    print(asset_names)\n",
    "\n",
    "    # Create a dictionary to store asset_name to asset_id mapping\n",
    "    asset_name_to_id = {}\n",
    "\n",
    "    # Check if assets exist for the investor and create the mapping\n",
    "    for asset_name in asset_names:\n",
    "        try:\n",
    "            asset = Assets.objects.get(investor_id=investor_id, name=asset_name)\n",
    "            asset_name_to_id[asset_name] = asset.id\n",
    "        except Assets.DoesNotExist:\n",
    "            print(f\"Warning: Asset '{asset_name}' not found for investor {investor_id}\")\n",
    "\n",
    "    # Iterate through the DataFrame\n",
    "    for index, row in df.iterrows():\n",
    "        date = row['date'].date()\n",
    "        \n",
    "        # Iterate through each asset column\n",
    "        for asset_name in asset_names:\n",
    "            price = row[asset_name]\n",
    "            \n",
    "            if pd.isna(price):\n",
    "                continue\n",
    "            \n",
    "            asset_id = asset_name_to_id.get(asset_name)\n",
    "            if asset_id is None:\n",
    "                continue  # We've already printed a warning, so just skip this asset\n",
    "\n",
    "            price_data = {\n",
    "                'date': date,\n",
    "                'security_id': asset_id,\n",
    "                'price': Decimal(str(price)),\n",
    "            }\n",
    "\n",
    "            # print(price_data)\n",
    "\n",
    "            # Update or create the Price entry\n",
    "            try:\n",
    "                price_instance, created = Prices.objects.update_or_create(\n",
    "                    date=price_data['date'], \n",
    "                    security_id=price_data['security_id'],\n",
    "                    defaults=price_data\n",
    "                )\n",
    "                print(f\"{'Created' if created else 'Updated'} price for asset {asset_name} on date {date}\")\n",
    "            except IntegrityError as e:\n",
    "                print(f\"Error updating price for asset {asset_name} on date {date}: {e}\")\n",
    "\n",
    "\n",
    "import_asset_prices_from_csv('../Data/Pricing data from Galaxy.csv', 2)"
   ]
  }
 ],
 "metadata": {
  "kernelspec": {
   "display_name": "Python 3",
   "language": "python",
   "name": "python3"
  },
  "language_info": {
   "codemirror_mode": {
    "name": "ipython",
    "version": 3
   },
   "file_extension": ".py",
   "mimetype": "text/x-python",
   "name": "python",
   "nbconvert_exporter": "python",
   "pygments_lexer": "ipython3",
   "version": "3.12.0"
  }
 },
 "nbformat": 4,
 "nbformat_minor": 2
}
