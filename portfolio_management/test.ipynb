{
 "cells": [
  {
   "cell_type": "code",
   "execution_count": 1,
   "metadata": {},
   "outputs": [],
   "source": [
    "import os\n",
    "import django\n",
    "\n",
    "os.environ.setdefault(\"DJANGO_SETTINGS_MODULE\", \"portfolio_management.settings\")\n",
    "os.environ[\"DJANGO_ALLOW_ASYNC_UNSAFE\"] = \"true\"\n",
    "\n",
    "django.setup()\n",
    "\n",
    "from common.models import Brokers, Prices, Transactions, FX, Assets\n",
    "from users.models import CustomUser\n",
    "from utils import NAV_at_date, Irr, chart_dates, chart_labels, chart_colour, portfolio_at_date, calculate_security_nav, currency_format, calculate_portfolio_value\n",
    "from datetime import date\n",
    "from django.db.models import F, Sum"
   ]
  },
  {
   "cell_type": "code",
   "execution_count": 2,
   "metadata": {},
   "outputs": [
    {
     "data": {
      "text/plain": [
       "<CustomUser: Yaroslav>"
      ]
     },
     "execution_count": 2,
     "metadata": {},
     "output_type": "execute_result"
    }
   ],
   "source": [
    "selected_brokers = broker_ids = [2]\n",
    "effective_current_date = date.today()\n",
    "currency_target = 'USD'\n",
    "number_of_digits = 2\n",
    "\n",
    "CustomUser.objects.get(id=2)"
   ]
  },
  {
   "cell_type": "code",
   "execution_count": 3,
   "metadata": {},
   "outputs": [
    {
     "name": "stdout",
     "output_type": "stream",
     "text": [
      "USD\n"
     ]
    },
    {
     "data": {
      "text/plain": [
       "<Prices: Long/short is at 24.00000000 on 2020-12-01>"
      ]
     },
     "execution_count": 3,
     "metadata": {},
     "output_type": "execute_result"
    }
   ],
   "source": [
    "security_id = 7\n",
    "security = Assets.objects.get(id=security_id)\n",
    "security.price_at_date(effective_current_date).price\n",
    "\n",
    "quote = security.prices.filter(date__lte=effective_current_date).order_by('-date').first()\n",
    "print(currency_target)\n",
    "if currency_target is not None:\n",
    "    quote.price = quote.price * FX.get_rate(security.currency, currency_target, effective_current_date)['FX']\n",
    "quote"
   ]
  },
  {
   "cell_type": "code",
   "execution_count": 11,
   "metadata": {},
   "outputs": [
    {
     "name": "stdout",
     "output_type": "stream",
     "text": [
      "1276. Time taken for preparations: 0.03590583801269531\n",
      "1284. Time taken for getting currencies: 0.029083967208862305\n",
      "1301. Time taken for getting and preparing transactions: 0.4137859344482422\n",
      "1323. Time taken for year preparatory calcs for 2010: 0.0\n",
      "1335. Time taken for calculating invested and cash_out for 2010: 0.0065631866455078125\n",
      "1352. Time taken for calculating Price change and Capital distribution for 2010: 0.1764528751373291\n",
      "1360. Time taken for calculating Commission and Tax for 2010: 0.0\n",
      "1366. Time taken for calculating EoP NAV for 2010: 0.09743571281433105\n",
      "1371. Time taken for calculating TSR for 2010: 0.13820147514343262\n",
      "1385. Time taken for calculating FX for 2010: 0.0\n",
      "1323. Time taken for year preparatory calcs for 2011: 0.0\n",
      "1335. Time taken for calculating invested and cash_out for 2011: 0.0\n",
      "1352. Time taken for calculating Price change and Capital distribution for 2011: 0.46419620513916016\n",
      "1360. Time taken for calculating Commission and Tax for 2011: 0.0\n",
      "1366. Time taken for calculating EoP NAV for 2011: 0.20407962799072266\n",
      "1371. Time taken for calculating TSR for 2011: 0.36366820335388184\n",
      "1385. Time taken for calculating FX for 2011: 0.0\n",
      "1323. Time taken for year preparatory calcs for 2012: 0.0\n",
      "1335. Time taken for calculating invested and cash_out for 2012: 0.0\n",
      "1352. Time taken for calculating Price change and Capital distribution for 2012: 0.41024255752563477\n",
      "1360. Time taken for calculating Commission and Tax for 2012: 0.0\n",
      "1366. Time taken for calculating EoP NAV for 2012: 0.06887936592102051\n",
      "1371. Time taken for calculating TSR for 2012: 0.12226653099060059\n",
      "1385. Time taken for calculating FX for 2012: 0.0\n",
      "1387. Time taken for calculating data for 2012: 0.6013884544372559\n",
      "1409. Time taken for calculating All-time and formatting: 0.1857435703277588\n",
      "Total time taken: 2.717503786087036\n",
      "{'name': 'BoP NAV', 'data': {2010: Decimal('0'), 2011: Decimal('7018.13'), 2012: Decimal('11953.18'), 'YTD': Decimal('0'), 'All-time': Decimal('0')}, 'percentage': {}, 'has_percentage': False}\n",
      "{'name': 'BoP NAV', 'data': {2010: '–', 2011: '$7,018.13', 2012: '$11,953.18', 'YTD': '–', 'All-time': '–'}, 'percentage': {}, 'has_percentage': False}\n",
      "{'name': 'Invested', 'data': {2010: Decimal('6217.80'), 2011: Decimal('5285.89'), 2012: Decimal('464.37'), 'YTD': Decimal('0'), 'All-time': Decimal('11968.06')}, 'percentage': {}, 'has_percentage': False}\n",
      "{'name': 'Invested', 'data': {2010: '$6,217.80', 2011: '$5,285.89', 2012: '$464.37', 'YTD': '–', 'All-time': '$11,968.06'}, 'percentage': {}, 'has_percentage': False}\n",
      "{'name': 'Cash-out', 'data': {2010: 0, 2011: 0, 2012: Decimal('-11837.49'), 'YTD': Decimal('0'), 'All-time': Decimal('-11837.49')}, 'percentage': {}, 'has_percentage': False}\n",
      "{'name': 'Cash-out', 'data': {2010: 0, 2011: 0, 2012: '($11,837.49)', 'YTD': '–', 'All-time': '($11,837.49)'}, 'percentage': {}, 'has_percentage': False}\n",
      "{'name': 'Price change', 'data': {2010: Decimal('775.73'), 2011: Decimal('-148.68'), 2012: Decimal('261.90'), 'YTD': Decimal('0'), 'All-time': Decimal('888.95')}, 'percentage': {}, 'has_percentage': True}\n",
      "{'name': 'Price change', 'data': {2010: '$775.73', 2011: '($148.68)', 2012: '$261.90', 'YTD': '–', 'All-time': '$888.95'}, 'percentage': {}, 'has_percentage': True}\n",
      "{'name': 'Capital distribution', 'data': {2010: Decimal('0'), 2011: Decimal('0'), 2012: Decimal('0'), 'YTD': Decimal('0'), 'All-time': Decimal('0')}, 'percentage': {}, 'has_percentage': True}\n",
      "{'name': 'Capital distribution', 'data': {2010: '–', 2011: '–', 2012: '–', 'YTD': '–', 'All-time': '–'}, 'percentage': {}, 'has_percentage': True}\n",
      "{'name': 'Commission', 'data': {2010: 0, 2011: 0, 2012: Decimal('-777.60'), 'YTD': Decimal('0'), 'All-time': Decimal('-777.60')}, 'percentage': {}, 'has_percentage': True}\n",
      "{'name': 'Commission', 'data': {2010: 0, 2011: 0, 2012: '($777.60)', 'YTD': '–', 'All-time': '($777.60)'}, 'percentage': {}, 'has_percentage': True}\n",
      "{'name': 'Tax', 'data': {2010: 0, 2011: 0, 2012: 0, 'YTD': Decimal('0'), 'All-time': Decimal('0')}, 'percentage': {}, 'has_percentage': True}\n",
      "{'name': 'Tax', 'data': {2010: 0, 2011: 0, 2012: 0, 'YTD': '–', 'All-time': '–'}, 'percentage': {}, 'has_percentage': True}\n",
      "{'name': 'FX', 'data': {2010: Decimal('24.60'), 2011: Decimal('-202.16'), 2012: Decimal('-64.36'), 'YTD': Decimal('0'), 'All-time': Decimal('-241.92')}, 'percentage': {}, 'has_percentage': True}\n",
      "{'name': 'FX', 'data': {2010: '$24.60', 2011: '($202.16)', 2012: '($64.36)', 'YTD': '–', 'All-time': '($241.92)'}, 'percentage': {}, 'has_percentage': True}\n",
      "{'name': 'EoP NAV', 'data': {2010: Decimal('7018.13'), 2011: Decimal('11953.18'), 2012: Decimal('0.00'), 'YTD': Decimal('0'), 'All-time': Decimal('0')}, 'percentage': {}, 'has_percentage': True}\n",
      "{'name': 'EoP NAV', 'data': {2010: '$7,018.13', 2011: '$11,953.18', 2012: '–', 'YTD': '–', 'All-time': '–'}, 'percentage': {}, 'has_percentage': True}\n",
      "{'name': 'TSR', 'data': {2010: 0.1985, 2011: -0.0365, 2012: -0.0785, 'YTD': Decimal('0'), 'All-time': -0.0066}, 'percentage': {}, 'has_percentage': False}\n",
      "dict_items([(2010, 0.1985), (2011, -0.0365), (2012, -0.0785), ('YTD', Decimal('0')), ('All-time', -0.0066)])\n",
      "2010\n",
      "2011\n",
      "2012\n",
      "YTD\n",
      "All-time\n",
      "{'name': 'TSR', 'data': {2010: '19.9%', 2011: '(3.6%)', 2012: '(7.8%)', 'YTD': '–', 'All-time': '(0.7%)'}, 'percentage': {}, 'has_percentage': False}\n"
     ]
    }
   ],
   "source": [
    "user = CustomUser.objects.get(id=2)\n",
    "\n",
    "from utils import currency_format_dict_values, format_percentage, summary_over_time\n",
    "\n",
    "s = summary_over_time(user, effective_current_date, [3], currency_target, number_of_digits)\n",
    "\n",
    "for index in range(len(s['lines'])):\n",
    "    if s['lines'][index]['name'] == 'TSR':\n",
    "        for k, v in s['lines'][index]['data'].items():\n",
    "            s['lines'][index]['data'][k] = format_percentage(v, digits=1)\n",
    "    else:\n",
    "        s['lines'][index] = currency_format_dict_values(s['lines'][index], currency_target, number_of_digits)\n",
    "    print(s['lines'][index])\n"
   ]
  }
 ],
 "metadata": {
  "kernelspec": {
   "display_name": "Python 3",
   "language": "python",
   "name": "python3"
  },
  "language_info": {
   "codemirror_mode": {
    "name": "ipython",
    "version": 3
   },
   "file_extension": ".py",
   "mimetype": "text/x-python",
   "name": "python",
   "nbconvert_exporter": "python",
   "pygments_lexer": "ipython3",
   "version": "3.11.4"
  }
 },
 "nbformat": 4,
 "nbformat_minor": 2
}
